{
 "cells": [
  {
   "cell_type": "markdown",
   "metadata": {},
   "source": [
    "<h1 style=\"color:#872325\"> GridSearchCV </h1>"
   ]
  },
  {
   "cell_type": "markdown",
   "metadata": {},
   "source": [
    "### Elaboró: Jorge Alberto Morúa Amaya\n",
    "### Clave: 193699\n",
    "### 21/04/2020"
   ]
  },
  {
   "cell_type": "markdown",
   "metadata": {},
   "source": [
    "* Entrenar un modelo Lasso con GridSearchCV usando un pipeline de polinomios de segundo grado\n",
    "* Graficar coeficientes \"significativos\"\n",
    "* Revisar cuantos parámetros son mayores a 1e-2"
   ]
  },
  {
   "cell_type": "code",
   "execution_count": 17,
   "metadata": {},
   "outputs": [
    {
     "data": {
      "text/plain": [
       "'\\npipe = Pipeline([\\n    \"paso1\": PolynomialFeatures(),\\n    \"model\": LinearRegression()\\n])\\n\\nparams = {\\n    \"model__normalize\": [True, False]\\n}\\n\\n'"
      ]
     },
     "execution_count": 17,
     "metadata": {},
     "output_type": "execute_result"
    }
   ],
   "source": [
    "## Hint: usando parámetros dentro de un pipeline\n",
    "# para usar dentro de GridSearchCV\n",
    "\"\"\"\n",
    "pipe = Pipeline([\n",
    "    \"paso1\": PolynomialFeatures(),\n",
    "    \"model\": LinearRegression()\n",
    "])\n",
    "\n",
    "params = {\n",
    "    \"model__normalize\": [True, False]\n",
    "}\n",
    "\n",
    "\"\"\""
   ]
  },
  {
   "cell_type": "code",
   "execution_count": 2,
   "metadata": {},
   "outputs": [],
   "source": [
    "import numpy as np\n",
    "import pandas as pd\n",
    "import matplotlib.pyplot as plt\n",
    "import seaborn as sns\n",
    "\n",
    "from sklearn.metrics import mean_absolute_error\n",
    "from sklearn.linear_model import ridge_regression\n",
    "from sklearn.model_selection import  cross_validate\n",
    "from sklearn.pipeline import Pipeline\n",
    "from sklearn.preprocessing import PolynomialFeatures\n",
    "from sklearn.linear_model import Lasso\n",
    "from sklearn.model_selection import train_test_split\n",
    "from sklearn.model_selection import GridSearchCV, cross_val_score"
   ]
  },
  {
   "cell_type": "code",
   "execution_count": 3,
   "metadata": {},
   "outputs": [
    {
     "data": {
      "text/html": [
       "<div>\n",
       "<style scoped>\n",
       "    .dataframe tbody tr th:only-of-type {\n",
       "        vertical-align: middle;\n",
       "    }\n",
       "\n",
       "    .dataframe tbody tr th {\n",
       "        vertical-align: top;\n",
       "    }\n",
       "\n",
       "    .dataframe thead th {\n",
       "        text-align: right;\n",
       "    }\n",
       "</style>\n",
       "<table border=\"1\" class=\"dataframe\">\n",
       "  <thead>\n",
       "    <tr style=\"text-align: right;\">\n",
       "      <th></th>\n",
       "      <th>KIMBERA</th>\n",
       "      <th>GAPB</th>\n",
       "      <th>CEMEXCPO</th>\n",
       "      <th>ASURB</th>\n",
       "      <th>GFNORTEO</th>\n",
       "      <th>KOFUBL</th>\n",
       "      <th>AC*</th>\n",
       "      <th>LABB</th>\n",
       "      <th>FEMSAUBD</th>\n",
       "      <th>OMAB</th>\n",
       "      <th>...</th>\n",
       "      <th>MEGACPO</th>\n",
       "      <th>GCC*</th>\n",
       "      <th>BIMBOA</th>\n",
       "      <th>GMEXICOB</th>\n",
       "      <th>GCARSOA1</th>\n",
       "      <th>TLEVICPO</th>\n",
       "      <th>ALFAA</th>\n",
       "      <th>BSMXB</th>\n",
       "      <th>PINFRA*</th>\n",
       "      <th>MEXBOL</th>\n",
       "    </tr>\n",
       "    <tr>\n",
       "      <th>DATE</th>\n",
       "      <th></th>\n",
       "      <th></th>\n",
       "      <th></th>\n",
       "      <th></th>\n",
       "      <th></th>\n",
       "      <th></th>\n",
       "      <th></th>\n",
       "      <th></th>\n",
       "      <th></th>\n",
       "      <th></th>\n",
       "      <th></th>\n",
       "      <th></th>\n",
       "      <th></th>\n",
       "      <th></th>\n",
       "      <th></th>\n",
       "      <th></th>\n",
       "      <th></th>\n",
       "      <th></th>\n",
       "      <th></th>\n",
       "      <th></th>\n",
       "      <th></th>\n",
       "    </tr>\n",
       "  </thead>\n",
       "  <tbody>\n",
       "    <tr>\n",
       "      <td>2016-01-01</td>\n",
       "      <td>40.37</td>\n",
       "      <td>152.05</td>\n",
       "      <td>8.72</td>\n",
       "      <td>243.89</td>\n",
       "      <td>94.99</td>\n",
       "      <td>123.90</td>\n",
       "      <td>104.68</td>\n",
       "      <td>13.85</td>\n",
       "      <td>161.63</td>\n",
       "      <td>83.61</td>\n",
       "      <td>...</td>\n",
       "      <td>64.19</td>\n",
       "      <td>44.81</td>\n",
       "      <td>45.95</td>\n",
       "      <td>36.79</td>\n",
       "      <td>70.98</td>\n",
       "      <td>94.34</td>\n",
       "      <td>34.10</td>\n",
       "      <td>30.25</td>\n",
       "      <td>202.73</td>\n",
       "      <td>42977.50</td>\n",
       "    </tr>\n",
       "    <tr>\n",
       "      <td>2016-01-04</td>\n",
       "      <td>39.16</td>\n",
       "      <td>148.57</td>\n",
       "      <td>8.43</td>\n",
       "      <td>238.29</td>\n",
       "      <td>91.79</td>\n",
       "      <td>120.29</td>\n",
       "      <td>102.09</td>\n",
       "      <td>14.41</td>\n",
       "      <td>157.62</td>\n",
       "      <td>81.77</td>\n",
       "      <td>...</td>\n",
       "      <td>64.45</td>\n",
       "      <td>43.51</td>\n",
       "      <td>45.02</td>\n",
       "      <td>35.71</td>\n",
       "      <td>69.83</td>\n",
       "      <td>92.62</td>\n",
       "      <td>33.74</td>\n",
       "      <td>29.46</td>\n",
       "      <td>202.93</td>\n",
       "      <td>42113.70</td>\n",
       "    </tr>\n",
       "    <tr>\n",
       "      <td>2016-01-05</td>\n",
       "      <td>38.89</td>\n",
       "      <td>147.93</td>\n",
       "      <td>8.31</td>\n",
       "      <td>233.03</td>\n",
       "      <td>91.72</td>\n",
       "      <td>118.82</td>\n",
       "      <td>101.12</td>\n",
       "      <td>13.77</td>\n",
       "      <td>157.80</td>\n",
       "      <td>81.58</td>\n",
       "      <td>...</td>\n",
       "      <td>63.16</td>\n",
       "      <td>43.51</td>\n",
       "      <td>45.77</td>\n",
       "      <td>36.45</td>\n",
       "      <td>70.70</td>\n",
       "      <td>91.89</td>\n",
       "      <td>33.99</td>\n",
       "      <td>29.72</td>\n",
       "      <td>203.56</td>\n",
       "      <td>42041.68</td>\n",
       "    </tr>\n",
       "    <tr>\n",
       "      <td>2016-01-06</td>\n",
       "      <td>39.13</td>\n",
       "      <td>146.99</td>\n",
       "      <td>8.29</td>\n",
       "      <td>231.97</td>\n",
       "      <td>91.63</td>\n",
       "      <td>120.32</td>\n",
       "      <td>102.50</td>\n",
       "      <td>13.65</td>\n",
       "      <td>156.37</td>\n",
       "      <td>82.03</td>\n",
       "      <td>...</td>\n",
       "      <td>63.27</td>\n",
       "      <td>43.51</td>\n",
       "      <td>45.97</td>\n",
       "      <td>35.57</td>\n",
       "      <td>70.47</td>\n",
       "      <td>90.41</td>\n",
       "      <td>33.65</td>\n",
       "      <td>29.67</td>\n",
       "      <td>199.80</td>\n",
       "      <td>41691.19</td>\n",
       "    </tr>\n",
       "    <tr>\n",
       "      <td>2016-01-07</td>\n",
       "      <td>39.16</td>\n",
       "      <td>141.32</td>\n",
       "      <td>7.64</td>\n",
       "      <td>230.71</td>\n",
       "      <td>89.54</td>\n",
       "      <td>120.20</td>\n",
       "      <td>101.16</td>\n",
       "      <td>13.25</td>\n",
       "      <td>155.14</td>\n",
       "      <td>80.94</td>\n",
       "      <td>...</td>\n",
       "      <td>62.78</td>\n",
       "      <td>42.76</td>\n",
       "      <td>46.18</td>\n",
       "      <td>35.01</td>\n",
       "      <td>68.15</td>\n",
       "      <td>90.23</td>\n",
       "      <td>31.46</td>\n",
       "      <td>28.50</td>\n",
       "      <td>196.75</td>\n",
       "      <td>40661.57</td>\n",
       "    </tr>\n",
       "  </tbody>\n",
       "</table>\n",
       "<p>5 rows × 36 columns</p>\n",
       "</div>"
      ],
      "text/plain": [
       "            KIMBERA    GAPB  CEMEXCPO   ASURB  GFNORTEO  KOFUBL     AC*  \\\n",
       "DATE                                                                      \n",
       "2016-01-01    40.37  152.05      8.72  243.89     94.99  123.90  104.68   \n",
       "2016-01-04    39.16  148.57      8.43  238.29     91.79  120.29  102.09   \n",
       "2016-01-05    38.89  147.93      8.31  233.03     91.72  118.82  101.12   \n",
       "2016-01-06    39.13  146.99      8.29  231.97     91.63  120.32  102.50   \n",
       "2016-01-07    39.16  141.32      7.64  230.71     89.54  120.20  101.16   \n",
       "\n",
       "             LABB  FEMSAUBD   OMAB  ...  MEGACPO   GCC*  BIMBOA  GMEXICOB  \\\n",
       "DATE                                ...                                     \n",
       "2016-01-01  13.85    161.63  83.61  ...    64.19  44.81   45.95     36.79   \n",
       "2016-01-04  14.41    157.62  81.77  ...    64.45  43.51   45.02     35.71   \n",
       "2016-01-05  13.77    157.80  81.58  ...    63.16  43.51   45.77     36.45   \n",
       "2016-01-06  13.65    156.37  82.03  ...    63.27  43.51   45.97     35.57   \n",
       "2016-01-07  13.25    155.14  80.94  ...    62.78  42.76   46.18     35.01   \n",
       "\n",
       "            GCARSOA1  TLEVICPO  ALFAA  BSMXB  PINFRA*    MEXBOL  \n",
       "DATE                                                             \n",
       "2016-01-01     70.98     94.34  34.10  30.25   202.73  42977.50  \n",
       "2016-01-04     69.83     92.62  33.74  29.46   202.93  42113.70  \n",
       "2016-01-05     70.70     91.89  33.99  29.72   203.56  42041.68  \n",
       "2016-01-06     70.47     90.41  33.65  29.67   199.80  41691.19  \n",
       "2016-01-07     68.15     90.23  31.46  28.50   196.75  40661.57  \n",
       "\n",
       "[5 rows x 36 columns]"
      ]
     },
     "execution_count": 3,
     "metadata": {},
     "output_type": "execute_result"
    }
   ],
   "source": [
    "#leemos el archivo\n",
    "ipc_path = \"../notebooks/ipc.xlsx\" # Modificar a ruta\n",
    "market = pd.read_excel(ipc_path, index_col=0)\n",
    "market.columns = [c.replace(\" MF Equity\", \"\").replace(\" INDEX\", \"\") for c in market]\n",
    "market.head()"
   ]
  },
  {
   "cell_type": "code",
   "execution_count": 5,
   "metadata": {},
   "outputs": [],
   "source": [
    "Rmkt = market.pct_change().dropna()\n",
    "\n",
    "Xall = Rmkt.drop(\"MEXBOL\", axis=1)\n",
    "Xall = Xall.join(Rmkt[\"MEXBOL\"].shift(1)).dropna()\n",
    "\n",
    "Xtrain = Xall.drop(\"MEXBOL\", axis=1)\n",
    "ytrain = Xall[\"MEXBOL\"]\n",
    "\n",
    "#rendimiento\n",
    "\"\"\"\n",
    "R = market[[\"MEXBOL\"]].diff()\n",
    "R = R.join(R.shift(1).rename({\"MEXBOL\": \"MEXBOL_0\"}, axis=1)).dropna()\n",
    "R.plot.scatter(x=\"MEXBOL_0\", y=\"MEXBOL\")\n",
    "Xtrain = R[[\"MEXBOL_0\"]]\n",
    "ytrain = R[[\"MEXBOL\"]]\n",
    "Xtrain = np.c_[np.ones_like(Xtrain),Xtrain]\n",
    "\"\"\"\n",
    "test_period = \"2019-12\"\n",
    "Xtest, ytest = Xtrain[test_period:], ytrain[test_period:]\n",
    "Xtrain, ytrain = Xtrain[:\"2019-11\":], ytrain[:\"2019-11\"]"
   ]
  },
  {
   "cell_type": "code",
   "execution_count": 6,
   "metadata": {},
   "outputs": [
    {
     "name": "stdout",
     "output_type": "stream",
     "text": [
      "(646, 35)\n",
      "(646,)\n"
     ]
    }
   ],
   "source": [
    "print(Xtrain.shape)\n",
    "print(ytrain.shape)"
   ]
  },
  {
   "cell_type": "code",
   "execution_count": 7,
   "metadata": {},
   "outputs": [],
   "source": [
    "fit_intercept = [True, False]\n",
    "alphas = [0.8, 0.5, 0.2, 0.1, 0.05, 0.024, 0.02, 0.025, 0.026, 0.03]\n",
    "#fit_intercept = fit_intercept\n",
    "pipe = Pipeline([\n",
    "    (\"poly\", PolynomialFeatures(degree=2)),\n",
    "    (\"lasso\", Lasso())\n",
    "])\n",
    "\n",
    "params = {\n",
    "    \"lasso__alpha\" : alphas\n",
    "    #,\"lasso__normalize\": [True, False]\n",
    "}"
   ]
  },
  {
   "cell_type": "code",
   "execution_count": 8,
   "metadata": {},
   "outputs": [
    {
     "name": "stdout",
     "output_type": "stream",
     "text": [
      "Wall time: 8.42 s\n"
     ]
    }
   ],
   "source": [
    "%%time\n",
    "gsearch = GridSearchCV(pipe, params, scoring=\"neg_mean_absolute_error\",\n",
    "                       return_train_score=True, cv=10)\n",
    "gsearch.fit(Xtrain, ytrain)\n",
    "cvres = gsearch.cv_results_"
   ]
  },
  {
   "cell_type": "code",
   "execution_count": 9,
   "metadata": {},
   "outputs": [],
   "source": [
    "cvres = gsearch.cv_results_\n",
    "train_score = np.sqrt(-cvres[\"mean_train_score\"])\n",
    "test_score = np.sqrt(-cvres[\"mean_test_score\"])"
   ]
  },
  {
   "cell_type": "code",
   "execution_count": 22,
   "metadata": {},
   "outputs": [
    {
     "data": {
      "text/plain": [
       "(10,)"
      ]
     },
     "execution_count": 22,
     "metadata": {},
     "output_type": "execute_result"
    }
   ],
   "source": [
    "train_score.shape"
   ]
  },
  {
   "cell_type": "code",
   "execution_count": 10,
   "metadata": {},
   "outputs": [
    {
     "data": {
      "image/png": "[encoded data removed]",
      "text/plain": [
       "<Figure size 432x288 with 1 Axes>"
      ]
     },
     "metadata": {
      "needs_background": "light"
     },
     "output_type": "display_data"
    }
   ],
   "source": [
    "plt.plot(alphas, train_score, label=\"train\")\n",
    "plt.scatter(alphas, train_score)\n",
    "plt.plot(alphas, test_score, label=\"cv\")\n",
    "plt.scatter(alphas, test_score)\n",
    "plt.xlabel(r\"$\\alpha$\")\n",
    "plt.ylabel(r\"$\\sqrt{J(\\theta)}$\")\n",
    "plt.legend(); plt.grid();"
   ]
  },
  {
   "cell_type": "code",
   "execution_count": 29,
   "metadata": {},
   "outputs": [
    {
     "name": "stdout",
     "output_type": "stream",
     "text": [
      "mean r2: -0.01\n",
      "mean mae: 0.01\n",
      "intercept: [-0.00017092]\n"
     ]
    }
   ],
   "source": [
    "cv = cross_validate(gsearch.best_estimator_, Xtrain, ytrain, cv=10, scoring=[\"r2\", \"neg_mean_absolute_error\"])\n",
    "r2 = cv[\"test_r2\"]\n",
    "mae = -cv[\"test_neg_mean_absolute_error\"]\n",
    "intercept = gsearch.best_estimator_.named_steps['lasso'].intercept_.reshape(-1, 1)\n",
    "print(f\"mean r2: {r2.mean():0.2f}\")\n",
    "print(f\"mean mae: {mae.mean():,.2f}\")\n",
    "print(f\"intercept: {intercept[0]}\")"
   ]
  },
  {
   "cell_type": "code",
   "execution_count": 12,
   "metadata": {},
   "outputs": [
    {
     "data": {
      "text/plain": [
       "array([ 0., -0.,  0.,  0.,  0.,  0., -0.,  0.,  0.,  0.,  0., -0.,  0.,\n",
       "        0.,  0.,  0.,  0.,  0., -0.,  0.,  0.,  0.,  0.,  0.,  0.,  0.,\n",
       "        0.,  0.,  0., -0.,  0.,  0.,  0.,  0.,  0.,  0., -0.,  0., -0.,\n",
       "        0.,  0.,  0., -0., -0.,  0.,  0., -0., -0.,  0., -0.,  0., -0.,\n",
       "        0.,  0., -0.,  0.,  0., -0., -0., -0.,  0.,  0.,  0., -0., -0.,\n",
       "       -0., -0., -0., -0., -0.,  0., -0.,  0., -0., -0.,  0., -0.,  0.,\n",
       "        0.,  0.,  0.,  0., -0.,  0., -0., -0., -0.,  0., -0., -0., -0.,\n",
       "       -0., -0.,  0., -0.,  0., -0.,  0.,  0., -0.,  0.,  0., -0., -0.,\n",
       "       -0., -0.,  0.,  0., -0.,  0., -0.,  0.,  0., -0.,  0.,  0., -0.,\n",
       "        0.,  0.,  0.,  0.,  0.,  0.,  0.,  0.,  0.,  0.,  0.,  0.,  0.,\n",
       "        0., -0.,  0., -0., -0.,  0.,  0.,  0., -0.,  0.,  0.,  0.,  0.,\n",
       "        0., -0.,  0.,  0., -0.,  0., -0.,  0.,  0.,  0.,  0.,  0., -0.,\n",
       "       -0., -0.,  0.,  0., -0., -0.,  0.,  0., -0.,  0.,  0., -0.,  0.,\n",
       "       -0.,  0.,  0.,  0.,  0.,  0.,  0.,  0.,  0.,  0.,  0., -0., -0.,\n",
       "        0.,  0.,  0., -0.,  0., -0.,  0.,  0.,  0.,  0., -0.,  0.,  0.,\n",
       "       -0.,  0.,  0., -0.,  0., -0.,  0.,  0.,  0.,  0.,  0.,  0.,  0.,\n",
       "       -0., -0., -0., -0.,  0.,  0., -0., -0.,  0., -0., -0., -0.,  0.,\n",
       "        0.,  0.,  0., -0., -0., -0., -0., -0.,  0.,  0., -0., -0., -0.,\n",
       "       -0.,  0.,  0., -0., -0., -0., -0., -0.,  0., -0., -0.,  0., -0.,\n",
       "       -0.,  0., -0.,  0., -0.,  0., -0., -0., -0., -0., -0.,  0., -0.,\n",
       "       -0.,  0.,  0., -0., -0.,  0., -0.,  0.,  0.,  0., -0.,  0.,  0.,\n",
       "        0.,  0.,  0., -0., -0., -0.,  0.,  0., -0.,  0., -0., -0., -0.,\n",
       "        0.,  0., -0.,  0., -0.,  0., -0.,  0.,  0., -0., -0.,  0.,  0.,\n",
       "       -0.,  0., -0.,  0.,  0., -0.,  0.,  0., -0.,  0.,  0.,  0.,  0.,\n",
       "       -0.,  0.,  0.,  0.,  0.,  0., -0.,  0., -0., -0.,  0.,  0.,  0.,\n",
       "        0., -0.,  0., -0.,  0.,  0., -0., -0.,  0.,  0.,  0.,  0.,  0.,\n",
       "       -0.,  0., -0., -0.,  0., -0.,  0.,  0., -0.,  0.,  0.,  0.,  0.,\n",
       "        0., -0.,  0.,  0., -0.,  0.,  0.,  0., -0.,  0., -0., -0., -0.,\n",
       "       -0.,  0.,  0.,  0.,  0.,  0.,  0.,  0.,  0.,  0.,  0.,  0.,  0.,\n",
       "        0., -0.,  0.,  0.,  0.,  0.,  0.,  0.,  0., -0.,  0.,  0.,  0.,\n",
       "       -0.,  0., -0., -0., -0.,  0., -0., -0.,  0., -0.,  0.,  0., -0.,\n",
       "        0., -0., -0., -0., -0., -0.,  0., -0., -0., -0., -0., -0.,  0.,\n",
       "        0.,  0., -0., -0.,  0., -0.,  0.,  0.,  0.,  0.,  0.,  0., -0.,\n",
       "       -0., -0., -0., -0.,  0.,  0., -0., -0.,  0.,  0., -0., -0.,  0.,\n",
       "        0., -0.,  0.,  0.,  0.,  0.,  0.,  0., -0.,  0., -0., -0.,  0.,\n",
       "       -0., -0., -0., -0., -0., -0., -0., -0., -0.,  0., -0., -0., -0.,\n",
       "       -0., -0., -0., -0.,  0., -0.,  0., -0., -0.,  0.,  0., -0.,  0.,\n",
       "       -0.,  0.,  0., -0.,  0., -0.,  0.,  0., -0.,  0.,  0., -0., -0.,\n",
       "       -0.,  0.,  0.,  0.,  0.,  0.,  0.,  0.,  0., -0., -0.,  0.,  0.,\n",
       "        0.,  0., -0., -0.,  0.,  0., -0., -0.,  0., -0.,  0.,  0.,  0.,\n",
       "        0., -0., -0., -0., -0., -0.,  0.,  0.,  0., -0., -0.,  0., -0.,\n",
       "        0.,  0., -0.,  0., -0.,  0., -0., -0.,  0.,  0., -0., -0., -0.,\n",
       "       -0.,  0., -0.,  0.,  0., -0., -0.,  0.,  0.,  0.,  0.,  0., -0.,\n",
       "       -0.,  0., -0., -0.,  0., -0., -0., -0., -0.,  0., -0.,  0.,  0.,\n",
       "       -0., -0., -0.,  0.,  0.,  0., -0., -0., -0.,  0., -0., -0.,  0.,\n",
       "       -0., -0., -0., -0.,  0.,  0.,  0.,  0., -0.,  0.,  0., -0.,  0.,\n",
       "        0.,  0., -0., -0., -0.,  0., -0.,  0., -0.,  0., -0., -0., -0.,\n",
       "       -0.,  0.,  0.,  0.,  0.,  0.,  0., -0.,  0.,  0.,  0., -0.,  0.,\n",
       "       -0.,  0.,  0., -0., -0., -0.,  0.,  0., -0.,  0.,  0.,  0.,  0.,\n",
       "        0., -0.,  0., -0., -0., -0.,  0.,  0., -0.,  0., -0., -0., -0.,\n",
       "       -0., -0., -0., -0., -0.,  0.,  0.,  0.,  0.,  0., -0., -0., -0.,\n",
       "       -0., -0., -0.])"
      ]
     },
     "execution_count": 12,
     "metadata": {},
     "output_type": "execute_result"
    }
   ],
   "source": [
    "c_val = gsearch.best_estimator_.named_steps[\"lasso\"].coef_\n",
    "c_val"
   ]
  },
  {
   "cell_type": "code",
   "execution_count": 35,
   "metadata": {},
   "outputs": [
    {
     "data": {
      "text/plain": [
       "array([], dtype=float64)"
      ]
     },
     "execution_count": 35,
     "metadata": {},
     "output_type": "execute_result"
    }
   ],
   "source": [
    "c_val[c_val > 1e-2]\n",
    "#NINGUN VALOR ES MAYOR A 1e-2"
   ]
  },
  {
   "cell_type": "code",
   "execution_count": null,
   "metadata": {},
   "outputs": [],
   "source": []
  }
 ],
 "metadata": {
  "kernelspec": {
   "display_name": "Python 3",
   "language": "python",
   "name": "python3"
  },
  "language_info": {
   "codemirror_mode": {
    "name": "ipython",
    "version": 3
   },
   "file_extension": ".py",
   "mimetype": "text/x-python",
   "name": "python",
   "nbconvert_exporter": "python",
   "pygments_lexer": "ipython3",
   "version": "3.7.4"
  }
 },
 "nbformat": 4,
 "nbformat_minor": 4
}
