{
 "cells": [
  {
   "cell_type": "markdown",
   "metadata": {},
   "source": [
    "<h1 style=\"color:#872325\"> Regresión Logística </h1>"
   ]
  },
  {
   "cell_type": "markdown",
   "metadata": {},
   "source": [
    "### Elaboró: Jorge Alberto Morúa Amaya\n",
    "### Clave: 193699\n",
    "### 28/04/2020"
   ]
  },
  {
   "cell_type": "markdown",
   "metadata": {},
   "source": [
    "* Agrupar por sector (limpiar los datos)\n",
    "* Entrenar una regresión Logística y encontrar los mejores hiperparámetros\n",
    "* Probar cross-validation\n",
    "* Graficar Precision-Recall curve"
   ]
  },
  {
   "cell_type": "code",
   "execution_count": 1,
   "metadata": {},
   "outputs": [],
   "source": [
    "import numpy as np\n",
    "import pandas as pd\n",
    "import matplotlib.pyplot as plt\n",
    "import seaborn as sns\n",
    "\n",
    "from sklearn.model_selection import GridSearchCV, cross_val_score,train_test_split,cross_validate\n",
    "from sklearn.linear_model import LogisticRegression\n",
    "from sklearn.metrics import confusion_matrix,precision_score, recall_score, f1_score,roc_curve,auc, precision_recall_curve\n",
    "from statsmodels.tsa.stattools import adfuller\n",
    "from sklearn.pipeline import Pipeline\n",
    "from sklearn import preprocessing"
   ]
  },
  {
   "cell_type": "code",
   "execution_count": 2,
   "metadata": {},
   "outputs": [
    {
     "data": {
      "text/html": [
       "<div>\n",
       "<style scoped>\n",
       "    .dataframe tbody tr th:only-of-type {\n",
       "        vertical-align: middle;\n",
       "    }\n",
       "\n",
       "    .dataframe tbody tr th {\n",
       "        vertical-align: top;\n",
       "    }\n",
       "\n",
       "    .dataframe thead th {\n",
       "        text-align: right;\n",
       "    }\n",
       "</style>\n",
       "<table border=\"1\" class=\"dataframe\">\n",
       "  <thead>\n",
       "    <tr style=\"text-align: right;\">\n",
       "      <th></th>\n",
       "      <th>KIMBERA</th>\n",
       "      <th>GAPB</th>\n",
       "      <th>CEMEXCPO</th>\n",
       "      <th>ASURB</th>\n",
       "      <th>GFNORTEO</th>\n",
       "      <th>KOFUBL</th>\n",
       "      <th>AC</th>\n",
       "      <th>LABB</th>\n",
       "      <th>FEMSAUBD</th>\n",
       "      <th>OMAB</th>\n",
       "      <th>...</th>\n",
       "      <th>MEGACPO</th>\n",
       "      <th>GCC</th>\n",
       "      <th>BIMBOA</th>\n",
       "      <th>GMEXICOB</th>\n",
       "      <th>GCARSOA1</th>\n",
       "      <th>TLEVICPO</th>\n",
       "      <th>ALFAA</th>\n",
       "      <th>BSMXB</th>\n",
       "      <th>PINFRA</th>\n",
       "      <th>MEXBOL</th>\n",
       "    </tr>\n",
       "    <tr>\n",
       "      <th>DATE</th>\n",
       "      <th></th>\n",
       "      <th></th>\n",
       "      <th></th>\n",
       "      <th></th>\n",
       "      <th></th>\n",
       "      <th></th>\n",
       "      <th></th>\n",
       "      <th></th>\n",
       "      <th></th>\n",
       "      <th></th>\n",
       "      <th></th>\n",
       "      <th></th>\n",
       "      <th></th>\n",
       "      <th></th>\n",
       "      <th></th>\n",
       "      <th></th>\n",
       "      <th></th>\n",
       "      <th></th>\n",
       "      <th></th>\n",
       "      <th></th>\n",
       "      <th></th>\n",
       "    </tr>\n",
       "  </thead>\n",
       "  <tbody>\n",
       "    <tr>\n",
       "      <th>2016-01-01</th>\n",
       "      <td>40.37</td>\n",
       "      <td>152.05</td>\n",
       "      <td>8.72</td>\n",
       "      <td>243.89</td>\n",
       "      <td>94.99</td>\n",
       "      <td>123.90</td>\n",
       "      <td>104.68</td>\n",
       "      <td>13.85</td>\n",
       "      <td>161.63</td>\n",
       "      <td>83.61</td>\n",
       "      <td>...</td>\n",
       "      <td>64.19</td>\n",
       "      <td>44.81</td>\n",
       "      <td>45.95</td>\n",
       "      <td>36.79</td>\n",
       "      <td>70.98</td>\n",
       "      <td>94.34</td>\n",
       "      <td>34.10</td>\n",
       "      <td>30.25</td>\n",
       "      <td>202.73</td>\n",
       "      <td>42977.50</td>\n",
       "    </tr>\n",
       "    <tr>\n",
       "      <th>2016-01-04</th>\n",
       "      <td>39.16</td>\n",
       "      <td>148.57</td>\n",
       "      <td>8.43</td>\n",
       "      <td>238.29</td>\n",
       "      <td>91.79</td>\n",
       "      <td>120.29</td>\n",
       "      <td>102.09</td>\n",
       "      <td>14.41</td>\n",
       "      <td>157.62</td>\n",
       "      <td>81.77</td>\n",
       "      <td>...</td>\n",
       "      <td>64.45</td>\n",
       "      <td>43.51</td>\n",
       "      <td>45.02</td>\n",
       "      <td>35.71</td>\n",
       "      <td>69.83</td>\n",
       "      <td>92.62</td>\n",
       "      <td>33.74</td>\n",
       "      <td>29.46</td>\n",
       "      <td>202.93</td>\n",
       "      <td>42113.70</td>\n",
       "    </tr>\n",
       "    <tr>\n",
       "      <th>2016-01-05</th>\n",
       "      <td>38.89</td>\n",
       "      <td>147.93</td>\n",
       "      <td>8.31</td>\n",
       "      <td>233.03</td>\n",
       "      <td>91.72</td>\n",
       "      <td>118.82</td>\n",
       "      <td>101.12</td>\n",
       "      <td>13.77</td>\n",
       "      <td>157.80</td>\n",
       "      <td>81.58</td>\n",
       "      <td>...</td>\n",
       "      <td>63.16</td>\n",
       "      <td>43.51</td>\n",
       "      <td>45.77</td>\n",
       "      <td>36.45</td>\n",
       "      <td>70.70</td>\n",
       "      <td>91.89</td>\n",
       "      <td>33.99</td>\n",
       "      <td>29.72</td>\n",
       "      <td>203.56</td>\n",
       "      <td>42041.68</td>\n",
       "    </tr>\n",
       "    <tr>\n",
       "      <th>2016-01-06</th>\n",
       "      <td>39.13</td>\n",
       "      <td>146.99</td>\n",
       "      <td>8.29</td>\n",
       "      <td>231.97</td>\n",
       "      <td>91.63</td>\n",
       "      <td>120.32</td>\n",
       "      <td>102.50</td>\n",
       "      <td>13.65</td>\n",
       "      <td>156.37</td>\n",
       "      <td>82.03</td>\n",
       "      <td>...</td>\n",
       "      <td>63.27</td>\n",
       "      <td>43.51</td>\n",
       "      <td>45.97</td>\n",
       "      <td>35.57</td>\n",
       "      <td>70.47</td>\n",
       "      <td>90.41</td>\n",
       "      <td>33.65</td>\n",
       "      <td>29.67</td>\n",
       "      <td>199.80</td>\n",
       "      <td>41691.19</td>\n",
       "    </tr>\n",
       "    <tr>\n",
       "      <th>2016-01-07</th>\n",
       "      <td>39.16</td>\n",
       "      <td>141.32</td>\n",
       "      <td>7.64</td>\n",
       "      <td>230.71</td>\n",
       "      <td>89.54</td>\n",
       "      <td>120.20</td>\n",
       "      <td>101.16</td>\n",
       "      <td>13.25</td>\n",
       "      <td>155.14</td>\n",
       "      <td>80.94</td>\n",
       "      <td>...</td>\n",
       "      <td>62.78</td>\n",
       "      <td>42.76</td>\n",
       "      <td>46.18</td>\n",
       "      <td>35.01</td>\n",
       "      <td>68.15</td>\n",
       "      <td>90.23</td>\n",
       "      <td>31.46</td>\n",
       "      <td>28.50</td>\n",
       "      <td>196.75</td>\n",
       "      <td>40661.57</td>\n",
       "    </tr>\n",
       "  </tbody>\n",
       "</table>\n",
       "<p>5 rows × 36 columns</p>\n",
       "</div>"
      ],
      "text/plain": [
       "            KIMBERA    GAPB  CEMEXCPO   ASURB  GFNORTEO  KOFUBL      AC  \\\n",
       "DATE                                                                      \n",
       "2016-01-01    40.37  152.05      8.72  243.89     94.99  123.90  104.68   \n",
       "2016-01-04    39.16  148.57      8.43  238.29     91.79  120.29  102.09   \n",
       "2016-01-05    38.89  147.93      8.31  233.03     91.72  118.82  101.12   \n",
       "2016-01-06    39.13  146.99      8.29  231.97     91.63  120.32  102.50   \n",
       "2016-01-07    39.16  141.32      7.64  230.71     89.54  120.20  101.16   \n",
       "\n",
       "             LABB  FEMSAUBD   OMAB  ...  MEGACPO    GCC  BIMBOA  GMEXICOB  \\\n",
       "DATE                                ...                                     \n",
       "2016-01-01  13.85    161.63  83.61  ...    64.19  44.81   45.95     36.79   \n",
       "2016-01-04  14.41    157.62  81.77  ...    64.45  43.51   45.02     35.71   \n",
       "2016-01-05  13.77    157.80  81.58  ...    63.16  43.51   45.77     36.45   \n",
       "2016-01-06  13.65    156.37  82.03  ...    63.27  43.51   45.97     35.57   \n",
       "2016-01-07  13.25    155.14  80.94  ...    62.78  42.76   46.18     35.01   \n",
       "\n",
       "            GCARSOA1  TLEVICPO  ALFAA  BSMXB  PINFRA    MEXBOL  \n",
       "DATE                                                            \n",
       "2016-01-01     70.98     94.34  34.10  30.25  202.73  42977.50  \n",
       "2016-01-04     69.83     92.62  33.74  29.46  202.93  42113.70  \n",
       "2016-01-05     70.70     91.89  33.99  29.72  203.56  42041.68  \n",
       "2016-01-06     70.47     90.41  33.65  29.67  199.80  41691.19  \n",
       "2016-01-07     68.15     90.23  31.46  28.50  196.75  40661.57  \n",
       "\n",
       "[5 rows x 36 columns]"
      ]
     },
     "execution_count": 2,
     "metadata": {},
     "output_type": "execute_result"
    }
   ],
   "source": [
    "#cargamos el archivo con la informacion de los indices\n",
    "ipc_path = \"../notebooks/ipc.xlsx\" # Modificar a ruta\n",
    "market = pd.read_excel(ipc_path, index_col=0)\n",
    "market.columns = [c.replace(\" MF Equity\", \"\").replace(\" INDEX\", \"\").replace(\"*\", \"\") for c in market.columns]\n",
    "market.head()"
   ]
  },
  {
   "cell_type": "code",
   "execution_count": 3,
   "metadata": {},
   "outputs": [],
   "source": [
    "#obtenemos los indices del sector PRODUCTOS DE CONSUMO FRECUENTE\n",
    "sdf_pcf = np.mean(market[['AC', 'BIMBOA', 'CUERVO', 'FEMSAUBD', 'GRUMAB', 'KOFUBL', 'WALMEX']], axis=1)\n",
    "sdf_pcf.name = \"CONS_FREC\""
   ]
  },
  {
   "cell_type": "code",
   "execution_count": 4,
   "metadata": {},
   "outputs": [],
   "source": [
    "#obtenemos los indices del sector INDUSTRIAL\n",
    "sdf_ind = np.mean(market[['ALFAA', 'RA', 'ASURB', 'GAPB', 'GCARSOA1', 'OMAB', 'ORBIA', 'PINFRA']], axis=1)\n",
    "sdf_ind.name = \"INDUSTRIAL\""
   ]
  },
  {
   "cell_type": "code",
   "execution_count": 5,
   "metadata": {},
   "outputs": [],
   "source": [
    "df_mkt = pd.merge(sdf_pcf,sdf_ind, on=\"DATE\")"
   ]
  },
  {
   "cell_type": "code",
   "execution_count": 6,
   "metadata": {},
   "outputs": [],
   "source": [
    "#obtenemos los indices del sector MATERIALES\n",
    "sdf_mat = np.mean(market[['ALPEKA', 'CEMEXCPO', 'GCC', 'GMEXICOB', 'PE&OLES']], axis=1)\n",
    "sdf_mat.name = \"MATERIALES\""
   ]
  },
  {
   "cell_type": "code",
   "execution_count": 7,
   "metadata": {},
   "outputs": [],
   "source": [
    "df_mkt = pd.merge(df_mkt,sdf_mat, on=\"DATE\")"
   ]
  },
  {
   "cell_type": "code",
   "execution_count": 8,
   "metadata": {},
   "outputs": [],
   "source": [
    "#obtenemos los indices del sector SERVICIOS Y BIENES DE CONSUMO NO BASICO\n",
    "sdf_byc = np.mean(market[['ALSEA', 'ELEKTRA', 'LIVEPOLC']], axis=1)\n",
    "sdf_byc.name = \"SERV_BYC\""
   ]
  },
  {
   "cell_type": "code",
   "execution_count": 9,
   "metadata": {},
   "outputs": [],
   "source": [
    "df_mkt = pd.merge(df_mkt,sdf_byc, on=\"DATE\")"
   ]
  },
  {
   "cell_type": "code",
   "execution_count": 10,
   "metadata": {},
   "outputs": [],
   "source": [
    "#obtenemos los indices del sector SERVICIOS DE TELECOMUNICACIONES\n",
    "sdf_tel = np.mean(market[['AMXL', 'MEGACPO', 'TLEVICPO']], axis=1)\n",
    "sdf_tel.name = \"TELCO\""
   ]
  },
  {
   "cell_type": "code",
   "execution_count": 11,
   "metadata": {},
   "outputs": [],
   "source": [
    "df_mkt = pd.merge(df_mkt,sdf_tel, on=\"DATE\")"
   ]
  },
  {
   "cell_type": "code",
   "execution_count": 12,
   "metadata": {},
   "outputs": [],
   "source": [
    "#obtenemos los indices del sector SERVICIOS FINANCIEROS\n",
    "sdf_fin = np.mean(market[['BBAJIOO', 'BOLSAA', 'BSMXB', 'GENTERA', 'GFINBURO', 'GFNORTEO']], axis=1)\n",
    "sdf_fin.name = \"FINANCIEROS\""
   ]
  },
  {
   "cell_type": "code",
   "execution_count": 13,
   "metadata": {},
   "outputs": [],
   "source": [
    "df_mkt = pd.merge(df_mkt,sdf_fin, on=\"DATE\")"
   ]
  },
  {
   "cell_type": "code",
   "execution_count": 14,
   "metadata": {},
   "outputs": [],
   "source": [
    "#obtenemos los indices del sectoR DE ENERGIA\n",
    "sdf_ene = market[['IENOVA']]\n",
    "sdf_ene.columns  = [\"ENERGIA\"]"
   ]
  },
  {
   "cell_type": "code",
   "execution_count": 15,
   "metadata": {},
   "outputs": [],
   "source": [
    "df_mkt = pd.merge(df_mkt,sdf_ene, on=\"DATE\")"
   ]
  },
  {
   "cell_type": "code",
   "execution_count": 16,
   "metadata": {},
   "outputs": [],
   "source": [
    "#obtenemos los indices del sector  SALUD\n",
    "sdf_sal = market[['LABB']]\n",
    "sdf_sal.columns = [\"SALUD\"]"
   ]
  },
  {
   "cell_type": "code",
   "execution_count": 17,
   "metadata": {},
   "outputs": [],
   "source": [
    "df_mkt = pd.merge(df_mkt,sdf_sal, on=\"DATE\")"
   ]
  },
  {
   "cell_type": "code",
   "execution_count": 18,
   "metadata": {},
   "outputs": [],
   "source": [
    "sdf_mex = market[[\"MEXBOL\"]]\n",
    "df_mkt = pd.merge(df_mkt,sdf_mex, on=\"DATE\")"
   ]
  },
  {
   "cell_type": "code",
   "execution_count": 19,
   "metadata": {},
   "outputs": [
    {
     "data": {
      "text/html": [
       "<div>\n",
       "<style scoped>\n",
       "    .dataframe tbody tr th:only-of-type {\n",
       "        vertical-align: middle;\n",
       "    }\n",
       "\n",
       "    .dataframe tbody tr th {\n",
       "        vertical-align: top;\n",
       "    }\n",
       "\n",
       "    .dataframe thead th {\n",
       "        text-align: right;\n",
       "    }\n",
       "</style>\n",
       "<table border=\"1\" class=\"dataframe\">\n",
       "  <thead>\n",
       "    <tr style=\"text-align: right;\">\n",
       "      <th></th>\n",
       "      <th>CONS_FREC</th>\n",
       "      <th>INDUSTRIAL</th>\n",
       "      <th>MATERIALES</th>\n",
       "      <th>SERV_BYC</th>\n",
       "      <th>TELCO</th>\n",
       "      <th>FINANCIEROS</th>\n",
       "      <th>ENERGIA</th>\n",
       "      <th>SALUD</th>\n",
       "      <th>MEXBOL</th>\n",
       "    </tr>\n",
       "    <tr>\n",
       "      <th>DATE</th>\n",
       "      <th></th>\n",
       "      <th></th>\n",
       "      <th></th>\n",
       "      <th></th>\n",
       "      <th></th>\n",
       "      <th></th>\n",
       "      <th></th>\n",
       "      <th></th>\n",
       "      <th></th>\n",
       "    </tr>\n",
       "  </thead>\n",
       "  <tbody>\n",
       "    <tr>\n",
       "      <th>2016-01-01</th>\n",
       "      <td>120.233333</td>\n",
       "      <td>114.15750</td>\n",
       "      <td>58.346</td>\n",
       "      <td>216.333333</td>\n",
       "      <td>56.883333</td>\n",
       "      <td>42.510000</td>\n",
       "      <td>72.34</td>\n",
       "      <td>13.85</td>\n",
       "      <td>42977.50</td>\n",
       "    </tr>\n",
       "    <tr>\n",
       "      <th>2016-01-04</th>\n",
       "      <td>117.381667</td>\n",
       "      <td>112.75250</td>\n",
       "      <td>57.482</td>\n",
       "      <td>212.393333</td>\n",
       "      <td>56.366667</td>\n",
       "      <td>41.114000</td>\n",
       "      <td>72.98</td>\n",
       "      <td>14.41</td>\n",
       "      <td>42113.70</td>\n",
       "    </tr>\n",
       "    <tr>\n",
       "      <th>2016-01-05</th>\n",
       "      <td>116.545000</td>\n",
       "      <td>112.06000</td>\n",
       "      <td>57.648</td>\n",
       "      <td>209.043333</td>\n",
       "      <td>55.673333</td>\n",
       "      <td>41.154000</td>\n",
       "      <td>71.48</td>\n",
       "      <td>13.77</td>\n",
       "      <td>42041.68</td>\n",
       "    </tr>\n",
       "    <tr>\n",
       "      <th>2016-01-06</th>\n",
       "      <td>118.486667</td>\n",
       "      <td>111.13125</td>\n",
       "      <td>56.514</td>\n",
       "      <td>202.943333</td>\n",
       "      <td>55.140000</td>\n",
       "      <td>40.972000</td>\n",
       "      <td>70.94</td>\n",
       "      <td>13.65</td>\n",
       "      <td>41691.19</td>\n",
       "    </tr>\n",
       "    <tr>\n",
       "      <th>2016-01-07</th>\n",
       "      <td>117.721667</td>\n",
       "      <td>108.81625</td>\n",
       "      <td>56.122</td>\n",
       "      <td>200.226667</td>\n",
       "      <td>54.783333</td>\n",
       "      <td>39.818000</td>\n",
       "      <td>72.31</td>\n",
       "      <td>13.25</td>\n",
       "      <td>40661.57</td>\n",
       "    </tr>\n",
       "    <tr>\n",
       "      <th>...</th>\n",
       "      <td>...</td>\n",
       "      <td>...</td>\n",
       "      <td>...</td>\n",
       "      <td>...</td>\n",
       "      <td>...</td>\n",
       "      <td>...</td>\n",
       "      <td>...</td>\n",
       "      <td>...</td>\n",
       "      <td>...</td>\n",
       "    </tr>\n",
       "    <tr>\n",
       "      <th>2019-12-30</th>\n",
       "      <td>102.341429</td>\n",
       "      <td>143.34125</td>\n",
       "      <td>76.360</td>\n",
       "      <td>512.143333</td>\n",
       "      <td>45.550000</td>\n",
       "      <td>41.023333</td>\n",
       "      <td>86.96</td>\n",
       "      <td>18.58</td>\n",
       "      <td>43657.48</td>\n",
       "    </tr>\n",
       "    <tr>\n",
       "      <th>2019-12-31</th>\n",
       "      <td>101.628571</td>\n",
       "      <td>143.25625</td>\n",
       "      <td>75.780</td>\n",
       "      <td>510.700000</td>\n",
       "      <td>45.636667</td>\n",
       "      <td>41.191667</td>\n",
       "      <td>88.93</td>\n",
       "      <td>18.71</td>\n",
       "      <td>43541.02</td>\n",
       "    </tr>\n",
       "    <tr>\n",
       "      <th>2020-01-01</th>\n",
       "      <td>101.628571</td>\n",
       "      <td>143.25625</td>\n",
       "      <td>75.780</td>\n",
       "      <td>510.700000</td>\n",
       "      <td>45.636667</td>\n",
       "      <td>41.191667</td>\n",
       "      <td>88.93</td>\n",
       "      <td>18.71</td>\n",
       "      <td>43541.02</td>\n",
       "    </tr>\n",
       "    <tr>\n",
       "      <th>2020-01-02</th>\n",
       "      <td>102.967143</td>\n",
       "      <td>146.06875</td>\n",
       "      <td>77.944</td>\n",
       "      <td>511.993333</td>\n",
       "      <td>45.976667</td>\n",
       "      <td>42.656667</td>\n",
       "      <td>87.76</td>\n",
       "      <td>18.78</td>\n",
       "      <td>44437.23</td>\n",
       "    </tr>\n",
       "    <tr>\n",
       "      <th>2020-01-03</th>\n",
       "      <td>103.695714</td>\n",
       "      <td>146.85500</td>\n",
       "      <td>78.734</td>\n",
       "      <td>511.463333</td>\n",
       "      <td>46.040000</td>\n",
       "      <td>42.550000</td>\n",
       "      <td>89.22</td>\n",
       "      <td>18.79</td>\n",
       "      <td>44624.86</td>\n",
       "    </tr>\n",
       "  </tbody>\n",
       "</table>\n",
       "<p>1046 rows × 9 columns</p>\n",
       "</div>"
      ],
      "text/plain": [
       "             CONS_FREC  INDUSTRIAL  MATERIALES    SERV_BYC      TELCO  \\\n",
       "DATE                                                                    \n",
       "2016-01-01  120.233333   114.15750      58.346  216.333333  56.883333   \n",
       "2016-01-04  117.381667   112.75250      57.482  212.393333  56.366667   \n",
       "2016-01-05  116.545000   112.06000      57.648  209.043333  55.673333   \n",
       "2016-01-06  118.486667   111.13125      56.514  202.943333  55.140000   \n",
       "2016-01-07  117.721667   108.81625      56.122  200.226667  54.783333   \n",
       "...                ...         ...         ...         ...        ...   \n",
       "2019-12-30  102.341429   143.34125      76.360  512.143333  45.550000   \n",
       "2019-12-31  101.628571   143.25625      75.780  510.700000  45.636667   \n",
       "2020-01-01  101.628571   143.25625      75.780  510.700000  45.636667   \n",
       "2020-01-02  102.967143   146.06875      77.944  511.993333  45.976667   \n",
       "2020-01-03  103.695714   146.85500      78.734  511.463333  46.040000   \n",
       "\n",
       "            FINANCIEROS  ENERGIA  SALUD    MEXBOL  \n",
       "DATE                                               \n",
       "2016-01-01    42.510000    72.34  13.85  42977.50  \n",
       "2016-01-04    41.114000    72.98  14.41  42113.70  \n",
       "2016-01-05    41.154000    71.48  13.77  42041.68  \n",
       "2016-01-06    40.972000    70.94  13.65  41691.19  \n",
       "2016-01-07    39.818000    72.31  13.25  40661.57  \n",
       "...                 ...      ...    ...       ...  \n",
       "2019-12-30    41.023333    86.96  18.58  43657.48  \n",
       "2019-12-31    41.191667    88.93  18.71  43541.02  \n",
       "2020-01-01    41.191667    88.93  18.71  43541.02  \n",
       "2020-01-02    42.656667    87.76  18.78  44437.23  \n",
       "2020-01-03    42.550000    89.22  18.79  44624.86  \n",
       "\n",
       "[1046 rows x 9 columns]"
      ]
     },
     "execution_count": 19,
     "metadata": {},
     "output_type": "execute_result"
    }
   ],
   "source": [
    "df_mkt"
   ]
  },
  {
   "cell_type": "code",
   "execution_count": 20,
   "metadata": {},
   "outputs": [],
   "source": [
    "window = 20\n",
    "market_t = df_mkt.copy()\n",
    "rolling_mean = market_t.rolling(window).mean()\n",
    "rolling_std =  market_t.rolling(window).std()\n",
    "market_t = (market_t - rolling_mean) / rolling_std\n",
    "market_t = market_t.dropna()"
   ]
  },
  {
   "cell_type": "code",
   "execution_count": 21,
   "metadata": {},
   "outputs": [],
   "source": [
    "y = (market_t[\"MEXBOL\"].diff().shift(-1) > 0) * 1.0\n",
    "X = market_t.drop(\"MEXBOL\", axis=1).join(y, how=\"inner\")\n",
    "\n",
    "y = X[\"MEXBOL\"]\n",
    "X = X.drop(\"MEXBOL\", axis=1)"
   ]
  },
  {
   "cell_type": "code",
   "execution_count": 22,
   "metadata": {},
   "outputs": [],
   "source": [
    "train_period = \"2019-10\"\n",
    "test_period = \"2019-11-20\"\n",
    "Xtrain, ytrain = X[:train_period], y[:train_period]\n",
    "Xtest, ytest = X[:test_period], y[:test_period]"
   ]
  },
  {
   "cell_type": "code",
   "execution_count": 108,
   "metadata": {},
   "outputs": [],
   "source": [
    "#Hiperparametros\n",
    "pipe= Pipeline([\n",
    "    ('scale', preprocessing.StandardScaler()),\n",
    "    ('clf', LogisticRegression(max_iter=120))\n",
    "])\n",
    "\n",
    "\n",
    "param_grid = [\n",
    "    {\n",
    "        #'clf__penalty' : ['l1', 'l2'],\n",
    "    #'clf__C' : np.logspace(-4, 4, 20),\n",
    "     'clf__C': np.logspace(-5, 5, 30),\n",
    "    #'clf__solver' : ['liblinear']\n",
    "     'clf__solver': ['newton-cg', 'lbfgs', 'liblinear', 'sag', 'saga']   \n",
    "    }\n",
    "]"
   ]
  },
  {
   "cell_type": "code",
   "execution_count": 127,
   "metadata": {},
   "outputs": [],
   "source": [
    "#Grid_serch\n",
    "#clf = GridSearchCV(pipe, param_grid = param_grid, cv = 5, verbose=True, n_jobs=-1)\n",
    "grid = GridSearchCV(pipe, param_grid=param_grid, cv=3, n_jobs=-1, verbose=2)"
   ]
  },
  {
   "cell_type": "code",
   "execution_count": 128,
   "metadata": {},
   "outputs": [
    {
     "name": "stdout",
     "output_type": "stream",
     "text": [
      "Fitting 3 folds for each of 150 candidates, totalling 450 fits\n"
     ]
    },
    {
     "name": "stderr",
     "output_type": "stream",
     "text": [
      "[Parallel(n_jobs=-1)]: Using backend LokyBackend with 8 concurrent workers.\n",
      "[Parallel(n_jobs=-1)]: Done  34 tasks      | elapsed:    0.2s\n",
      "[Parallel(n_jobs=-1)]: Done 450 out of 450 | elapsed:    1.7s finished\n"
     ]
    }
   ],
   "source": [
    "best_model = grid.fit(Xtrain, ytrain)"
   ]
  },
  {
   "cell_type": "code",
   "execution_count": 129,
   "metadata": {},
   "outputs": [
    {
     "name": "stdout",
     "output_type": "stream",
     "text": [
      "Los mejores parametros encontrados son:\n",
      "{'clf__C': 0.002592943797404667, 'clf__solver': 'liblinear'}\n"
     ]
    }
   ],
   "source": [
    "print('Los mejores parametros encontrados son:')\n",
    "print(best_model.best_params_)"
   ]
  },
  {
   "cell_type": "code",
   "execution_count": 130,
   "metadata": {},
   "outputs": [],
   "source": [
    "y_pred = best_model.predict(Xtest.values)"
   ]
  },
  {
   "cell_type": "code",
   "execution_count": 131,
   "metadata": {},
   "outputs": [
    {
     "name": "stdout",
     "output_type": "stream",
     "text": [
      "Confusion matrix\n",
      "     pred_neg  pred_pos\n",
      "neg       319       183\n",
      "pos       224       269\n"
     ]
    }
   ],
   "source": [
    "print('Confusion matrix')\n",
    "print(pd.DataFrame(confusion_matrix(ytest, y_pred),\n",
    "                 columns=['pred_neg', 'pred_pos'], index=['neg', 'pos']))"
   ]
  },
  {
   "cell_type": "code",
   "execution_count": 132,
   "metadata": {},
   "outputs": [
    {
     "data": {
      "text/plain": [
       "0.5951327433628318"
      ]
     },
     "execution_count": 132,
     "metadata": {},
     "output_type": "execute_result"
    }
   ],
   "source": [
    "precision_score(ytest, y_pred)"
   ]
  },
  {
   "cell_type": "code",
   "execution_count": 133,
   "metadata": {},
   "outputs": [],
   "source": [
    "y_scores = best_model.predict_proba(Xtest)[:, 1]"
   ]
  },
  {
   "cell_type": "code",
   "execution_count": 134,
   "metadata": {},
   "outputs": [],
   "source": [
    "def plot_roc_curve(fpr, tpr, label=None):\n",
    "    \"\"\"\n",
    "    The ROC curve from \n",
    "    Hands-On Machine learning with Scikit-Learn and TensorFlow; p.91\n",
    "    \"\"\"\n",
    "    plt.figure(figsize=(8,8))\n",
    "    plt.title('ROC Curve')\n",
    "    plt.plot(fpr, tpr, linewidth=2, label=label)\n",
    "    plt.plot([0, 1], [0, 1], 'k--')\n",
    "    plt.axis([-0.005, 1, 0, 1.005])\n",
    "    plt.xticks(np.arange(0,1, 0.05), rotation=90)\n",
    "    plt.xlabel(\"False Positive Rate\")\n",
    "    plt.ylabel(\"True Positive Rate (Recall)\")\n",
    "    plt.legend(loc='best')"
   ]
  },
  {
   "cell_type": "code",
   "execution_count": 135,
   "metadata": {},
   "outputs": [
    {
     "name": "stdout",
     "output_type": "stream",
     "text": [
      "ROC VALUE:\n",
      "0.6402422763307825\n"
     ]
    }
   ],
   "source": [
    "fpr, tpr, auc_thresholds = roc_curve(ytest, y_scores)\n",
    "print('ROC VALUE:')\n",
    "print(auc(fpr, tpr)) # AUC of ROC"
   ]
  },
  {
   "cell_type": "code",
   "execution_count": 136,
   "metadata": {},
   "outputs": [
    {
     "data": {
      "image/png": "[encoded data removed]",
      "text/plain": [
       "<Figure size 576x576 with 1 Axes>"
      ]
     },
     "metadata": {
      "needs_background": "light"
     },
     "output_type": "display_data"
    }
   ],
   "source": [
    "plot_roc_curve(fpr, tpr, 'recall_optimized')"
   ]
  },
  {
   "cell_type": "code",
   "execution_count": 137,
   "metadata": {},
   "outputs": [],
   "source": [
    "p, r, thresholds = precision_recall_curve(ytest, y_scores)"
   ]
  },
  {
   "cell_type": "code",
   "execution_count": 138,
   "metadata": {},
   "outputs": [],
   "source": [
    "def adjusted_classes(y_scores, t):\n",
    "    \"\"\"\n",
    "    This function adjusts class predictions based on the prediction threshold (t).\n",
    "    Will only work for binary classification problems.\n",
    "    \"\"\"\n",
    "    return [1 if y >= t else 0 for y in y_scores]\n",
    "\n",
    "def precision_recall_threshold(p, r, thresholds, t=0.5):\n",
    "    \"\"\"\n",
    "    plots the precision recall curve and shows the current value for each\n",
    "    by identifying the classifier's threshold (t).\n",
    "    \"\"\"\n",
    "    \n",
    "    # generate new class predictions based on the adjusted_classes\n",
    "    # function above and view the resulting confusion matrix.\n",
    "    y_pred_adj = adjusted_classes(y_scores, t)\n",
    "    print(pd.DataFrame(confusion_matrix(ytest, y_pred_adj),\n",
    "                       columns=['pred_neg', 'pred_pos'], \n",
    "                       index=['neg', 'pos']))\n",
    "    \n",
    "    # plot the curve\n",
    "    plt.figure(figsize=(8,8))\n",
    "    plt.title(\"Precision and Recall curve ^ = current threshold\")\n",
    "    plt.step(r, p, color='b', alpha=0.2,\n",
    "             where='post')\n",
    "    plt.fill_between(r, p, step='post', alpha=0.2,\n",
    "                     color='b')\n",
    "    plt.ylim([0.5, 1.01]);\n",
    "    plt.xlim([0.5, 1.01]);\n",
    "    plt.xlabel('Recall');\n",
    "    plt.ylabel('Precision');\n",
    "    \n",
    "    # plot the current threshold on the line\n",
    "    close_default_clf = np.argmin(np.abs(thresholds - t))\n",
    "    plt.plot(r[close_default_clf], p[close_default_clf], '^', c='k',\n",
    "            markersize=15)"
   ]
  },
  {
   "cell_type": "code",
   "execution_count": 139,
   "metadata": {},
   "outputs": [
    {
     "name": "stdout",
     "output_type": "stream",
     "text": [
      "     pred_neg  pred_pos\n",
      "neg         2       500\n",
      "pos         0       493\n"
     ]
    },
    {
     "data": {
      "image/png": "[encoded data removed]",
      "text/plain": [
       "<Figure size 576x576 with 1 Axes>"
      ]
     },
     "metadata": {
      "needs_background": "light"
     },
     "output_type": "display_data"
    }
   ],
   "source": [
    "precision_recall_threshold(p, r, thresholds, 0.30)"
   ]
  },
  {
   "cell_type": "code",
   "execution_count": null,
   "metadata": {},
   "outputs": [],
   "source": []
  },
  {
   "cell_type": "code",
   "execution_count": null,
   "metadata": {},
   "outputs": [],
   "source": []
  }
 ],
 "metadata": {
  "kernelspec": {
   "display_name": "Python 3",
   "language": "python",
   "name": "python3"
  },
  "language_info": {
   "codemirror_mode": {
    "name": "ipython",
    "version": 3
   },
   "file_extension": ".py",
   "mimetype": "text/x-python",
   "name": "python",
   "nbconvert_exporter": "python",
   "pygments_lexer": "ipython3",
   "version": "3.7.7"
  }
 },
 "nbformat": 4,
 "nbformat_minor": 4
}
