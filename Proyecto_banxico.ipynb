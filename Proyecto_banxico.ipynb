{
 "cells": [
  {
   "cell_type": "markdown",
   "metadata": {},
   "source": [
    "# Proyecto -> Comunicados de Política Monetaria\n",
    "### Elaboró: Jorge Alberto Morúa Amaya\n",
    "### Clave: 193699\n",
    "### 17/03/2020"
   ]
  },
  {
   "cell_type": "markdown",
   "metadata": {},
   "source": [
    "\n",
    "## Parte 1.\n",
    "\n",
    "En este notebook crearemos un pandas DataFrame con las decisiones de política monetaria de Banxico y haremos un análisis de la información recabada."
   ]
  },
  {
   "cell_type": "code",
   "execution_count": 71,
   "metadata": {},
   "outputs": [],
   "source": [
    "import re\n",
    "import os\n",
    "import pandas as pd\n",
    "import matplotlib.pyplot as plt\n",
    "from requests_html import HTMLSession\n",
    "from collections import defaultdict\n",
    "from unidecode import unidecode\n",
    "from datetime import datetime\n",
    "import locale\n"
   ]
  },
  {
   "cell_type": "code",
   "execution_count": null,
   "metadata": {},
   "outputs": [],
   "source": [
    "locale.setlocale(locale.LC_TIME, \"en_EN.UTF-8\")"
   ]
  },
  {
   "cell_type": "code",
   "execution_count": 2,
   "metadata": {},
   "outputs": [],
   "source": [
    "%config InlineBackend.figure_format = \"retina\"\n",
    "plt.rcParams[\"figure.figsize\"] = (12, 4)"
   ]
  },
  {
   "cell_type": "markdown",
   "metadata": {},
   "source": [
    "La información de decisción de política monetaria se encuentra en la siguiente url."
   ]
  },
  {
   "cell_type": "code",
   "execution_count": 3,
   "metadata": {},
   "outputs": [],
   "source": [
    "url = (\"https://www.banxico.org.mx/publicaciones-y-prensa/\"\n",
    "      \"anuncios-de-las-decisiones-de-politica-monetaria/\"\n",
    "      \"anuncios-politica-monetaria-t.html\")"
   ]
  },
  {
   "cell_type": "markdown",
   "metadata": {},
   "source": [
    "* Entra a `url` y analiza la página."
   ]
  },
  {
   "cell_type": "code",
   "execution_count": 4,
   "metadata": {},
   "outputs": [
    {
     "name": "stdout",
     "output_type": "stream",
     "text": [
      "https://www.banxico.org.mx/publicaciones-y-prensa/anuncios-de-las-decisiones-de-politica-monetaria/anuncios-politica-monetaria-t.html\n"
     ]
    }
   ],
   "source": [
    "print(url)"
   ]
  },
  {
   "cell_type": "markdown",
   "metadata": {},
   "source": [
    "* Como podemos observar, la url objetivo contiene\n",
    "    * las fechas de decisiones de política monetaria,\n",
    "    * el resumen de las decisiones de política monetaria y\n",
    "    * una url que nos dirige a un pdf con el texto completo del Anuncio de Política Monetaria.\n",
    "    \n",
    "<h3 style=\"color:crimson\">Ejercicio</h3>\n",
    "\n",
    "1. Por medio de `requests_html`, extrae los tres puntos antes mencionados y guárdalos dentro de un DataFrame con columnas `\"date\"`, `\"text\"` y `\"url\"`;\n",
    "2. Con el dataframe seleccionado, filtra todos comunicados anteriores al 15 de febrero de 2008, i.e., queremos todos los comunicados a partir del 15 de Febrero de 2008;\n",
    "3. Guarda tu DataFrame dentro de un archivo `.pkl` con nombre `comunicados-banxico.pkl`: **hint:** Revisa el uso del método `to_pickle`."
   ]
  },
  {
   "cell_type": "code",
   "execution_count": 5,
   "metadata": {},
   "outputs": [],
   "source": [
    "with HTMLSession() as sess:\n",
    "    r = sess.get(url)"
   ]
  },
  {
   "cell_type": "code",
   "execution_count": 17,
   "metadata": {},
   "outputs": [],
   "source": [
    "divpage = r.html.find(\"div[id='content']\", first=True)"
   ]
  },
  {
   "cell_type": "code",
   "execution_count": 31,
   "metadata": {},
   "outputs": [],
   "source": [
    "table_row = divpage.find(\"tr\")"
   ]
  },
  {
   "cell_type": "code",
   "execution_count": 61,
   "metadata": {},
   "outputs": [],
   "source": [
    "values = []\n",
    "for row in table_row:\n",
    "    fh_tmp =  row.find(\"td[class='bmdateview']\", first=True).text\n",
    "    texto = row.find(\"td[class='bmtextview']\",first=True).text\n",
    "    lnk_tmp = row.find(\"a\",first=True).absolute_links\n",
    "    lnk= str(lnk_tmp).lstrip(\"{'\").rstrip(\"'}\")\n",
    "    \n",
    "    dat = datetime.strptime(fh_tmp,\"%d/%m/%y\")\n",
    "    values.append([dat, texto, lnk])    \n",
    "    "
   ]
  },
  {
   "cell_type": "code",
   "execution_count": 82,
   "metadata": {},
   "outputs": [
    {
     "data": {
      "text/html": [
       "<div>\n",
       "<style scoped>\n",
       "    .dataframe tbody tr th:only-of-type {\n",
       "        vertical-align: middle;\n",
       "    }\n",
       "\n",
       "    .dataframe tbody tr th {\n",
       "        vertical-align: top;\n",
       "    }\n",
       "\n",
       "    .dataframe thead th {\n",
       "        text-align: right;\n",
       "    }\n",
       "</style>\n",
       "<table border=\"1\" class=\"dataframe\">\n",
       "  <thead>\n",
       "    <tr style=\"text-align: right;\">\n",
       "      <th></th>\n",
       "      <th>text</th>\n",
       "      <th>url</th>\n",
       "    </tr>\n",
       "    <tr>\n",
       "      <th>date</th>\n",
       "      <th></th>\n",
       "      <th></th>\n",
       "    </tr>\n",
       "  </thead>\n",
       "  <tbody>\n",
       "    <tr>\n",
       "      <td>2020-02-13</td>\n",
       "      <td>El objetivo para la Tasa de Inter�s Interbanca...</td>\n",
       "      <td>https://www.banxico.org.mx/publicaciones-y-pre...</td>\n",
       "    </tr>\n",
       "    <tr>\n",
       "      <td>2019-12-19</td>\n",
       "      <td>El objetivo para la Tasa de Inter�s Interbanca...</td>\n",
       "      <td>https://www.banxico.org.mx/publicaciones-y-pre...</td>\n",
       "    </tr>\n",
       "    <tr>\n",
       "      <td>2019-11-14</td>\n",
       "      <td>El objetivo para la Tasa de Inter�s Interbanca...</td>\n",
       "      <td>https://www.banxico.org.mx/publicaciones-y-pre...</td>\n",
       "    </tr>\n",
       "    <tr>\n",
       "      <td>2019-09-26</td>\n",
       "      <td>El objetivo para la Tasa de Inter�s Interbanca...</td>\n",
       "      <td>https://www.banxico.org.mx/publicaciones-y-pre...</td>\n",
       "    </tr>\n",
       "    <tr>\n",
       "      <td>2019-08-15</td>\n",
       "      <td>El objetivo para la Tasa de Inter�s Interbanca...</td>\n",
       "      <td>https://www.banxico.org.mx/publicaciones-y-pre...</td>\n",
       "    </tr>\n",
       "    <tr>\n",
       "      <td>...</td>\n",
       "      <td>...</td>\n",
       "      <td>...</td>\n",
       "    </tr>\n",
       "    <tr>\n",
       "      <td>2008-06-20</td>\n",
       "      <td>El objetivo para la Tasa de Inter�s Interbanca...</td>\n",
       "      <td>https://www.banxico.org.mx/publicaciones-y-pre...</td>\n",
       "    </tr>\n",
       "    <tr>\n",
       "      <td>2008-05-16</td>\n",
       "      <td>El objetivo para la Tasa de Inter�s Interbanca...</td>\n",
       "      <td>https://www.banxico.org.mx/publicaciones-y-pre...</td>\n",
       "    </tr>\n",
       "    <tr>\n",
       "      <td>2008-04-18</td>\n",
       "      <td>El objetivo para la Tasa de Inter�s Interbanca...</td>\n",
       "      <td>https://www.banxico.org.mx/publicaciones-y-pre...</td>\n",
       "    </tr>\n",
       "    <tr>\n",
       "      <td>2008-03-14</td>\n",
       "      <td>El objetivo para la Tasa de Inter�s Interbanca...</td>\n",
       "      <td>https://www.banxico.org.mx/publicaciones-y-pre...</td>\n",
       "    </tr>\n",
       "    <tr>\n",
       "      <td>2008-02-15</td>\n",
       "      <td>El objetivo para la Tasa de Inter�s Interbanca...</td>\n",
       "      <td>https://www.banxico.org.mx/publicaciones-y-pre...</td>\n",
       "    </tr>\n",
       "  </tbody>\n",
       "</table>\n",
       "<p>106 rows × 2 columns</p>\n",
       "</div>"
      ],
      "text/plain": [
       "                                                         text  \\\n",
       "date                                                            \n",
       "2020-02-13  El objetivo para la Tasa de Inter�s Interbanca...   \n",
       "2019-12-19  El objetivo para la Tasa de Inter�s Interbanca...   \n",
       "2019-11-14  El objetivo para la Tasa de Inter�s Interbanca...   \n",
       "2019-09-26  El objetivo para la Tasa de Inter�s Interbanca...   \n",
       "2019-08-15  El objetivo para la Tasa de Inter�s Interbanca...   \n",
       "...                                                       ...   \n",
       "2008-06-20  El objetivo para la Tasa de Inter�s Interbanca...   \n",
       "2008-05-16  El objetivo para la Tasa de Inter�s Interbanca...   \n",
       "2008-04-18  El objetivo para la Tasa de Inter�s Interbanca...   \n",
       "2008-03-14  El objetivo para la Tasa de Inter�s Interbanca...   \n",
       "2008-02-15  El objetivo para la Tasa de Inter�s Interbanca...   \n",
       "\n",
       "                                                          url  \n",
       "date                                                           \n",
       "2020-02-13  https://www.banxico.org.mx/publicaciones-y-pre...  \n",
       "2019-12-19  https://www.banxico.org.mx/publicaciones-y-pre...  \n",
       "2019-11-14  https://www.banxico.org.mx/publicaciones-y-pre...  \n",
       "2019-09-26  https://www.banxico.org.mx/publicaciones-y-pre...  \n",
       "2019-08-15  https://www.banxico.org.mx/publicaciones-y-pre...  \n",
       "...                                                       ...  \n",
       "2008-06-20  https://www.banxico.org.mx/publicaciones-y-pre...  \n",
       "2008-05-16  https://www.banxico.org.mx/publicaciones-y-pre...  \n",
       "2008-04-18  https://www.banxico.org.mx/publicaciones-y-pre...  \n",
       "2008-03-14  https://www.banxico.org.mx/publicaciones-y-pre...  \n",
       "2008-02-15  https://www.banxico.org.mx/publicaciones-y-pre...  \n",
       "\n",
       "[106 rows x 2 columns]"
      ]
     },
     "execution_count": 82,
     "metadata": {},
     "output_type": "execute_result"
    }
   ],
   "source": [
    "df = pd.DataFrame(values)\n",
    "df.columns=['date','text','url']\n",
    "df_final = df[df.date>='2008-02-15']\n",
    "df_final = df_final.set_index('date')\n",
    "df_final"
   ]
  },
  {
   "cell_type": "code",
   "execution_count": 84,
   "metadata": {},
   "outputs": [],
   "source": [
    "#guardamos el archivo\n",
    "file = 'comunicados-banxico.pkl'\n",
    "df_final.to_pickle(\"./\"+file)"
   ]
  },
  {
   "cell_type": "code",
   "execution_count": 2,
   "metadata": {},
   "outputs": [
    {
     "data": {
      "text/html": [
       "<div>\n",
       "<style scoped>\n",
       "    .dataframe tbody tr th:only-of-type {\n",
       "        vertical-align: middle;\n",
       "    }\n",
       "\n",
       "    .dataframe tbody tr th {\n",
       "        vertical-align: top;\n",
       "    }\n",
       "\n",
       "    .dataframe thead th {\n",
       "        text-align: right;\n",
       "    }\n",
       "</style>\n",
       "<table border=\"1\" class=\"dataframe\">\n",
       "  <thead>\n",
       "    <tr style=\"text-align: right;\">\n",
       "      <th></th>\n",
       "      <th>text</th>\n",
       "      <th>url</th>\n",
       "    </tr>\n",
       "    <tr>\n",
       "      <th>date</th>\n",
       "      <th></th>\n",
       "      <th></th>\n",
       "    </tr>\n",
       "  </thead>\n",
       "  <tbody>\n",
       "    <tr>\n",
       "      <td>2020-02-13</td>\n",
       "      <td>El objetivo para la Tasa de Inter�s Interbanca...</td>\n",
       "      <td>https://www.banxico.org.mx/publicaciones-y-pre...</td>\n",
       "    </tr>\n",
       "    <tr>\n",
       "      <td>2019-12-19</td>\n",
       "      <td>El objetivo para la Tasa de Inter�s Interbanca...</td>\n",
       "      <td>https://www.banxico.org.mx/publicaciones-y-pre...</td>\n",
       "    </tr>\n",
       "    <tr>\n",
       "      <td>2019-11-14</td>\n",
       "      <td>El objetivo para la Tasa de Inter�s Interbanca...</td>\n",
       "      <td>https://www.banxico.org.mx/publicaciones-y-pre...</td>\n",
       "    </tr>\n",
       "    <tr>\n",
       "      <td>2019-09-26</td>\n",
       "      <td>El objetivo para la Tasa de Inter�s Interbanca...</td>\n",
       "      <td>https://www.banxico.org.mx/publicaciones-y-pre...</td>\n",
       "    </tr>\n",
       "    <tr>\n",
       "      <td>2019-08-15</td>\n",
       "      <td>El objetivo para la Tasa de Inter�s Interbanca...</td>\n",
       "      <td>https://www.banxico.org.mx/publicaciones-y-pre...</td>\n",
       "    </tr>\n",
       "    <tr>\n",
       "      <td>...</td>\n",
       "      <td>...</td>\n",
       "      <td>...</td>\n",
       "    </tr>\n",
       "    <tr>\n",
       "      <td>2008-06-20</td>\n",
       "      <td>El objetivo para la Tasa de Inter�s Interbanca...</td>\n",
       "      <td>https://www.banxico.org.mx/publicaciones-y-pre...</td>\n",
       "    </tr>\n",
       "    <tr>\n",
       "      <td>2008-05-16</td>\n",
       "      <td>El objetivo para la Tasa de Inter�s Interbanca...</td>\n",
       "      <td>https://www.banxico.org.mx/publicaciones-y-pre...</td>\n",
       "    </tr>\n",
       "    <tr>\n",
       "      <td>2008-04-18</td>\n",
       "      <td>El objetivo para la Tasa de Inter�s Interbanca...</td>\n",
       "      <td>https://www.banxico.org.mx/publicaciones-y-pre...</td>\n",
       "    </tr>\n",
       "    <tr>\n",
       "      <td>2008-03-14</td>\n",
       "      <td>El objetivo para la Tasa de Inter�s Interbanca...</td>\n",
       "      <td>https://www.banxico.org.mx/publicaciones-y-pre...</td>\n",
       "    </tr>\n",
       "    <tr>\n",
       "      <td>2008-02-15</td>\n",
       "      <td>El objetivo para la Tasa de Inter�s Interbanca...</td>\n",
       "      <td>https://www.banxico.org.mx/publicaciones-y-pre...</td>\n",
       "    </tr>\n",
       "  </tbody>\n",
       "</table>\n",
       "<p>106 rows × 2 columns</p>\n",
       "</div>"
      ],
      "text/plain": [
       "                                                         text  \\\n",
       "date                                                            \n",
       "2020-02-13  El objetivo para la Tasa de Inter�s Interbanca...   \n",
       "2019-12-19  El objetivo para la Tasa de Inter�s Interbanca...   \n",
       "2019-11-14  El objetivo para la Tasa de Inter�s Interbanca...   \n",
       "2019-09-26  El objetivo para la Tasa de Inter�s Interbanca...   \n",
       "2019-08-15  El objetivo para la Tasa de Inter�s Interbanca...   \n",
       "...                                                       ...   \n",
       "2008-06-20  El objetivo para la Tasa de Inter�s Interbanca...   \n",
       "2008-05-16  El objetivo para la Tasa de Inter�s Interbanca...   \n",
       "2008-04-18  El objetivo para la Tasa de Inter�s Interbanca...   \n",
       "2008-03-14  El objetivo para la Tasa de Inter�s Interbanca...   \n",
       "2008-02-15  El objetivo para la Tasa de Inter�s Interbanca...   \n",
       "\n",
       "                                                          url  \n",
       "date                                                           \n",
       "2020-02-13  https://www.banxico.org.mx/publicaciones-y-pre...  \n",
       "2019-12-19  https://www.banxico.org.mx/publicaciones-y-pre...  \n",
       "2019-11-14  https://www.banxico.org.mx/publicaciones-y-pre...  \n",
       "2019-09-26  https://www.banxico.org.mx/publicaciones-y-pre...  \n",
       "2019-08-15  https://www.banxico.org.mx/publicaciones-y-pre...  \n",
       "...                                                       ...  \n",
       "2008-06-20  https://www.banxico.org.mx/publicaciones-y-pre...  \n",
       "2008-05-16  https://www.banxico.org.mx/publicaciones-y-pre...  \n",
       "2008-04-18  https://www.banxico.org.mx/publicaciones-y-pre...  \n",
       "2008-03-14  https://www.banxico.org.mx/publicaciones-y-pre...  \n",
       "2008-02-15  https://www.banxico.org.mx/publicaciones-y-pre...  \n",
       "\n",
       "[106 rows x 2 columns]"
      ]
     },
     "execution_count": 2,
     "metadata": {},
     "output_type": "execute_result"
    }
   ],
   "source": [
    "file = 'comunicados-banxico.pkl'\n",
    "#lee el archivo pickle\n",
    "new_df = pd.read_pickle(\"./\"+file)\n",
    "new_df"
   ]
  },
  {
   "cell_type": "code",
   "execution_count": null,
   "metadata": {},
   "outputs": [],
   "source": []
  },
  {
   "cell_type": "code",
   "execution_count": 6,
   "metadata": {},
   "outputs": [
    {
     "data": {
      "text/html": [
       "<div>\n",
       "<style scoped>\n",
       "    .dataframe tbody tr th:only-of-type {\n",
       "        vertical-align: middle;\n",
       "    }\n",
       "\n",
       "    .dataframe tbody tr th {\n",
       "        vertical-align: top;\n",
       "    }\n",
       "\n",
       "    .dataframe thead th {\n",
       "        text-align: right;\n",
       "    }\n",
       "</style>\n",
       "<table border=\"1\" class=\"dataframe\">\n",
       "  <thead>\n",
       "    <tr style=\"text-align: right;\">\n",
       "      <th></th>\n",
       "      <th>text</th>\n",
       "      <th>url</th>\n",
       "    </tr>\n",
       "    <tr>\n",
       "      <th>date</th>\n",
       "      <th></th>\n",
       "      <th></th>\n",
       "    </tr>\n",
       "  </thead>\n",
       "  <tbody>\n",
       "    <tr>\n",
       "      <th>2008-02-15</th>\n",
       "      <td>El objetivo para la Tasa de Inter�s Interbanca...</td>\n",
       "      <td>https://www.banxico.org.mx/publicaciones-y-pre...</td>\n",
       "    </tr>\n",
       "    <tr>\n",
       "      <th>2008-03-14</th>\n",
       "      <td>El objetivo para la Tasa de Inter�s Interbanca...</td>\n",
       "      <td>https://www.banxico.org.mx/publicaciones-y-pre...</td>\n",
       "    </tr>\n",
       "    <tr>\n",
       "      <th>2008-04-18</th>\n",
       "      <td>El objetivo para la Tasa de Inter�s Interbanca...</td>\n",
       "      <td>https://www.banxico.org.mx/publicaciones-y-pre...</td>\n",
       "    </tr>\n",
       "    <tr>\n",
       "      <th>2008-05-16</th>\n",
       "      <td>El objetivo para la Tasa de Inter�s Interbanca...</td>\n",
       "      <td>https://www.banxico.org.mx/publicaciones-y-pre...</td>\n",
       "    </tr>\n",
       "    <tr>\n",
       "      <th>2008-06-20</th>\n",
       "      <td>El objetivo para la Tasa de Inter�s Interbanca...</td>\n",
       "      <td>https://www.banxico.org.mx/publicaciones-y-pre...</td>\n",
       "    </tr>\n",
       "  </tbody>\n",
       "</table>\n",
       "</div>"
      ],
      "text/plain": [
       "                                                         text  \\\n",
       "date                                                            \n",
       "2008-02-15  El objetivo para la Tasa de Inter�s Interbanca...   \n",
       "2008-03-14  El objetivo para la Tasa de Inter�s Interbanca...   \n",
       "2008-04-18  El objetivo para la Tasa de Inter�s Interbanca...   \n",
       "2008-05-16  El objetivo para la Tasa de Inter�s Interbanca...   \n",
       "2008-06-20  El objetivo para la Tasa de Inter�s Interbanca...   \n",
       "\n",
       "                                                          url  \n",
       "date                                                           \n",
       "2008-02-15  https://www.banxico.org.mx/publicaciones-y-pre...  \n",
       "2008-03-14  https://www.banxico.org.mx/publicaciones-y-pre...  \n",
       "2008-04-18  https://www.banxico.org.mx/publicaciones-y-pre...  \n",
       "2008-05-16  https://www.banxico.org.mx/publicaciones-y-pre...  \n",
       "2008-06-20  https://www.banxico.org.mx/publicaciones-y-pre...  "
      ]
     },
     "execution_count": 6,
     "metadata": {},
     "output_type": "execute_result"
    }
   ],
   "source": [
    "#ejemplo de como debe de quedar el dataframe"
   ]
  },
  {
   "cell_type": "markdown",
   "metadata": {},
   "source": [
    "<h3 style=\"color:crimson\">Ejercicio</h3>\n",
    "\n",
    "Por medio del método `str.extract` para un pandas Series, crea una nueva columna `\"category\"` que extraiga del texto si la tasa se \n",
    "1. `\"mantiene\"`\n",
    "2. `\"incrementa\"`\n",
    "3. `\"disminuye\"`"
   ]
  },
  {
   "cell_type": "code",
   "execution_count": 9,
   "metadata": {},
   "outputs": [],
   "source": [
    "file = 'comunicados-banxico.pkl'\n",
    "#lee el archivo pickle\n",
    "data = pd.read_pickle(\"./\"+file)"
   ]
  },
  {
   "cell_type": "code",
   "execution_count": 10,
   "metadata": {},
   "outputs": [],
   "source": [
    "data['category']= data.text.str.extract('(disminuye|mantiene|incrementa)')\n",
    "data.index = pd.to_datetime(data.index)"
   ]
  },
  {
   "cell_type": "code",
   "execution_count": 11,
   "metadata": {},
   "outputs": [
    {
     "data": {
      "text/html": [
       "<div>\n",
       "<style scoped>\n",
       "    .dataframe tbody tr th:only-of-type {\n",
       "        vertical-align: middle;\n",
       "    }\n",
       "\n",
       "    .dataframe tbody tr th {\n",
       "        vertical-align: top;\n",
       "    }\n",
       "\n",
       "    .dataframe thead th {\n",
       "        text-align: right;\n",
       "    }\n",
       "</style>\n",
       "<table border=\"1\" class=\"dataframe\">\n",
       "  <thead>\n",
       "    <tr style=\"text-align: right;\">\n",
       "      <th></th>\n",
       "      <th>text</th>\n",
       "      <th>url</th>\n",
       "      <th>category</th>\n",
       "    </tr>\n",
       "    <tr>\n",
       "      <th>date</th>\n",
       "      <th></th>\n",
       "      <th></th>\n",
       "      <th></th>\n",
       "    </tr>\n",
       "  </thead>\n",
       "  <tbody>\n",
       "    <tr>\n",
       "      <td>2020-02-13</td>\n",
       "      <td>El objetivo para la Tasa de Inter�s Interbanca...</td>\n",
       "      <td>https://www.banxico.org.mx/publicaciones-y-pre...</td>\n",
       "      <td>disminuye</td>\n",
       "    </tr>\n",
       "    <tr>\n",
       "      <td>2019-12-19</td>\n",
       "      <td>El objetivo para la Tasa de Inter�s Interbanca...</td>\n",
       "      <td>https://www.banxico.org.mx/publicaciones-y-pre...</td>\n",
       "      <td>disminuye</td>\n",
       "    </tr>\n",
       "    <tr>\n",
       "      <td>2019-11-14</td>\n",
       "      <td>El objetivo para la Tasa de Inter�s Interbanca...</td>\n",
       "      <td>https://www.banxico.org.mx/publicaciones-y-pre...</td>\n",
       "      <td>disminuye</td>\n",
       "    </tr>\n",
       "    <tr>\n",
       "      <td>2019-09-26</td>\n",
       "      <td>El objetivo para la Tasa de Inter�s Interbanca...</td>\n",
       "      <td>https://www.banxico.org.mx/publicaciones-y-pre...</td>\n",
       "      <td>disminuye</td>\n",
       "    </tr>\n",
       "    <tr>\n",
       "      <td>2019-08-15</td>\n",
       "      <td>El objetivo para la Tasa de Inter�s Interbanca...</td>\n",
       "      <td>https://www.banxico.org.mx/publicaciones-y-pre...</td>\n",
       "      <td>disminuye</td>\n",
       "    </tr>\n",
       "    <tr>\n",
       "      <td>...</td>\n",
       "      <td>...</td>\n",
       "      <td>...</td>\n",
       "      <td>...</td>\n",
       "    </tr>\n",
       "    <tr>\n",
       "      <td>2008-06-20</td>\n",
       "      <td>El objetivo para la Tasa de Inter�s Interbanca...</td>\n",
       "      <td>https://www.banxico.org.mx/publicaciones-y-pre...</td>\n",
       "      <td>incrementa</td>\n",
       "    </tr>\n",
       "    <tr>\n",
       "      <td>2008-05-16</td>\n",
       "      <td>El objetivo para la Tasa de Inter�s Interbanca...</td>\n",
       "      <td>https://www.banxico.org.mx/publicaciones-y-pre...</td>\n",
       "      <td>mantiene</td>\n",
       "    </tr>\n",
       "    <tr>\n",
       "      <td>2008-04-18</td>\n",
       "      <td>El objetivo para la Tasa de Inter�s Interbanca...</td>\n",
       "      <td>https://www.banxico.org.mx/publicaciones-y-pre...</td>\n",
       "      <td>mantiene</td>\n",
       "    </tr>\n",
       "    <tr>\n",
       "      <td>2008-03-14</td>\n",
       "      <td>El objetivo para la Tasa de Inter�s Interbanca...</td>\n",
       "      <td>https://www.banxico.org.mx/publicaciones-y-pre...</td>\n",
       "      <td>mantiene</td>\n",
       "    </tr>\n",
       "    <tr>\n",
       "      <td>2008-02-15</td>\n",
       "      <td>El objetivo para la Tasa de Inter�s Interbanca...</td>\n",
       "      <td>https://www.banxico.org.mx/publicaciones-y-pre...</td>\n",
       "      <td>mantiene</td>\n",
       "    </tr>\n",
       "  </tbody>\n",
       "</table>\n",
       "<p>106 rows × 3 columns</p>\n",
       "</div>"
      ],
      "text/plain": [
       "                                                         text  \\\n",
       "date                                                            \n",
       "2020-02-13  El objetivo para la Tasa de Inter�s Interbanca...   \n",
       "2019-12-19  El objetivo para la Tasa de Inter�s Interbanca...   \n",
       "2019-11-14  El objetivo para la Tasa de Inter�s Interbanca...   \n",
       "2019-09-26  El objetivo para la Tasa de Inter�s Interbanca...   \n",
       "2019-08-15  El objetivo para la Tasa de Inter�s Interbanca...   \n",
       "...                                                       ...   \n",
       "2008-06-20  El objetivo para la Tasa de Inter�s Interbanca...   \n",
       "2008-05-16  El objetivo para la Tasa de Inter�s Interbanca...   \n",
       "2008-04-18  El objetivo para la Tasa de Inter�s Interbanca...   \n",
       "2008-03-14  El objetivo para la Tasa de Inter�s Interbanca...   \n",
       "2008-02-15  El objetivo para la Tasa de Inter�s Interbanca...   \n",
       "\n",
       "                                                          url    category  \n",
       "date                                                                       \n",
       "2020-02-13  https://www.banxico.org.mx/publicaciones-y-pre...   disminuye  \n",
       "2019-12-19  https://www.banxico.org.mx/publicaciones-y-pre...   disminuye  \n",
       "2019-11-14  https://www.banxico.org.mx/publicaciones-y-pre...   disminuye  \n",
       "2019-09-26  https://www.banxico.org.mx/publicaciones-y-pre...   disminuye  \n",
       "2019-08-15  https://www.banxico.org.mx/publicaciones-y-pre...   disminuye  \n",
       "...                                                       ...         ...  \n",
       "2008-06-20  https://www.banxico.org.mx/publicaciones-y-pre...  incrementa  \n",
       "2008-05-16  https://www.banxico.org.mx/publicaciones-y-pre...    mantiene  \n",
       "2008-04-18  https://www.banxico.org.mx/publicaciones-y-pre...    mantiene  \n",
       "2008-03-14  https://www.banxico.org.mx/publicaciones-y-pre...    mantiene  \n",
       "2008-02-15  https://www.banxico.org.mx/publicaciones-y-pre...    mantiene  \n",
       "\n",
       "[106 rows x 3 columns]"
      ]
     },
     "execution_count": 11,
     "metadata": {},
     "output_type": "execute_result"
    }
   ],
   "source": [
    "data"
   ]
  },
  {
   "cell_type": "code",
   "execution_count": null,
   "metadata": {},
   "outputs": [],
   "source": []
  },
  {
   "cell_type": "markdown",
   "metadata": {},
   "source": [
    "<h3 style=\"color:crimson\">Ejercicio</h3>\n",
    "\n",
    "Cuenta las veces en las que la tasa se mantuvo, se incrementó o se disminuyó."
   ]
  },
  {
   "cell_type": "code",
   "execution_count": 8,
   "metadata": {
    "scrolled": true
   },
   "outputs": [
    {
     "data": {
      "text/plain": [
       "mantiene      72\n",
       "incrementa    18\n",
       "disminuye     14\n",
       "Name: category, dtype: int64"
      ]
     },
     "execution_count": 8,
     "metadata": {},
     "output_type": "execute_result"
    }
   ],
   "source": [
    "#Ejemplo de resultado deseado"
   ]
  },
  {
   "cell_type": "code",
   "execution_count": 284,
   "metadata": {},
   "outputs": [
    {
     "data": {
      "text/plain": [
       "category\n",
       "mantiene      72\n",
       "incrementa    18\n",
       "disminuye     16\n",
       "Name: category, dtype: int64"
      ]
     },
     "execution_count": 284,
     "metadata": {},
     "output_type": "execute_result"
    }
   ],
   "source": [
    "#calculos\n",
    "data.category.groupby(data.category).count().sort_values(ascending=False)"
   ]
  },
  {
   "cell_type": "markdown",
   "metadata": {},
   "source": [
    "<h3 style=\"color:crimson\">Ejercicio</h3>\n",
    "\n",
    "Reproduce la siguiente figura sobre los comunicados de prensa de Banxico:\n",
    "1. La gráfica de la izquierda representa una serie de tiempo sobre los comunicados de banxico. Si `y=1`, la tasa de referencia se incrementó; si `y=0`, la tasa se mantuvo; finalmente, si `y=-1`, la tasa disminuyó.\n",
    "2. La gráfica de la derecha es una gráfica de barras del ejercicio anterior"
   ]
  },
  {
   "cell_type": "code",
   "execution_count": 11,
   "metadata": {},
   "outputs": [
    {
     "data": {
      "image/png": "[encoded data removed]",
      "text/plain": [
       "<Figure size 1152x288 with 2 Axes>"
      ]
     },
     "metadata": {
      "image/png": {
       "height": 274,
       "width": 934
      },
      "needs_background": "light"
     },
     "output_type": "display_data"
    }
   ],
   "source": [
    "#ejemplo de resultado deseado"
   ]
  },
  {
   "cell_type": "code",
   "execution_count": 285,
   "metadata": {},
   "outputs": [],
   "source": [
    "#obtiene los valores numericos segun la categoria\n",
    "test = []\n",
    "for val in data.category :\n",
    "    if val == 'mantiene':\n",
    "        test.append(0)\n",
    "    elif val == 'incrementa':\n",
    "        test.append(1)\n",
    "    else: \n",
    "        test.append(-1)\n",
    "data['cat_value'] = test"
   ]
  },
  {
   "cell_type": "code",
   "execution_count": 286,
   "metadata": {},
   "outputs": [],
   "source": [
    "%config InlineBackend.figure_format = \"retina\"\n",
    "plt.rcParams[\"figure.figsize\"] = (18, 5)"
   ]
  },
  {
   "cell_type": "code",
   "execution_count": 287,
   "metadata": {},
   "outputs": [
    {
     "data": {
      "text/plain": [
       "<matplotlib.axes._subplots.AxesSubplot at 0x1877e4bb448>"
      ]
     },
     "execution_count": 287,
     "metadata": {},
     "output_type": "execute_result"
    },
    {
     "data": {
      "image/png": "[encoded data removed]",
      "text/plain": [
       "<Figure size 1296x360 with 2 Axes>"
      ]
     },
     "metadata": {
      "image/png": {
       "height": 337,
       "width": 1040
      },
      "needs_background": "light"
     },
     "output_type": "display_data"
    }
   ],
   "source": [
    "fig = plt.figure()\n",
    "ax1 = fig.add_subplot(121)\n",
    "ax2 = fig.add_subplot(122)\n",
    "\n",
    "data.plot(style='+',ax=ax1, yticks=[-1,0,1],grid=True, legend=False)\n",
    "(data.category.groupby(data.category)\n",
    "              .count()\n",
    "              .sort_values(ascending=False)\n",
    "              .plot(kind='bar',ax=ax2))\n",
    "\n",
    "\n"
   ]
  },
  {
   "cell_type": "code",
   "execution_count": null,
   "metadata": {},
   "outputs": [],
   "source": []
  },
  {
   "cell_type": "markdown",
   "metadata": {},
   "source": [
    "<h3 style=\"color:crimson\">Ejercicio</h3>\n",
    "\n",
    "Agrupa por año y cuenta el número de comunicados en un año para cada categoría."
   ]
  },
  {
   "cell_type": "code",
   "execution_count": 80,
   "metadata": {},
   "outputs": [
    {
     "data": {
      "text/plain": [
       "date        category  \n",
       "2008-12-31  mantiene       7\n",
       "            incrementa     3\n",
       "2009-12-31  disminuye      7\n",
       "            mantiene       4\n",
       "2010-12-31  mantiene      11\n",
       "Name: category, dtype: int64"
      ]
     },
     "execution_count": 80,
     "metadata": {},
     "output_type": "execute_result"
    }
   ],
   "source": [
    "# resultado deseado"
   ]
  },
  {
   "cell_type": "code",
   "execution_count": null,
   "metadata": {},
   "outputs": [],
   "source": []
  },
  {
   "cell_type": "code",
   "execution_count": 308,
   "metadata": {},
   "outputs": [
    {
     "data": {
      "text/plain": [
       "date        category  \n",
       "2008-12-31  incrementa     3\n",
       "            mantiene       7\n",
       "2009-12-31  disminuye      7\n",
       "            mantiene       4\n",
       "2010-12-31  mantiene      11\n",
       "2011-12-31  mantiene       8\n",
       "2012-12-31  mantiene       8\n",
       "2013-12-31  disminuye      3\n",
       "            mantiene       5\n",
       "2014-12-31  disminuye      1\n",
       "            mantiene       7\n",
       "2015-12-31  incrementa     1\n",
       "            mantiene       7\n",
       "2016-12-31  incrementa     5\n",
       "            mantiene       4\n",
       "2017-12-31  incrementa     5\n",
       "            mantiene       3\n",
       "2018-12-31  incrementa     4\n",
       "            mantiene       4\n",
       "2019-12-31  disminuye      4\n",
       "            mantiene       4\n",
       "2020-12-31  disminuye      1\n",
       "Name: text, dtype: int64"
      ]
     },
     "execution_count": 308,
     "metadata": {},
     "output_type": "execute_result"
    }
   ],
   "source": [
    "data_agg = data.groupby([pd.Grouper(freq=\"Y\"),'category']).count()['text']\n",
    "data_agg"
   ]
  },
  {
   "cell_type": "markdown",
   "metadata": {},
   "source": [
    "<h3 style=\"color:crimson\">Ejercicio</h3>\n",
    "\n",
    "Con el resultado anterior, replica la siguiente gráfica"
   ]
  },
  {
   "cell_type": "code",
   "execution_count": 78,
   "metadata": {},
   "outputs": [
    {
     "data": {
      "image/png": "[encoded data removed]",
      "text/plain": [
       "<Figure size 864x288 with 1 Axes>"
      ]
     },
     "metadata": {
      "image/png": {
       "height": 264,
       "width": 703
      },
      "needs_background": "light"
     },
     "output_type": "display_data"
    }
   ],
   "source": [
    "# resultado deseado"
   ]
  },
  {
   "cell_type": "code",
   "execution_count": 329,
   "metadata": {},
   "outputs": [
    {
     "data": {
      "text/plain": [
       "<matplotlib.axes._subplots.AxesSubplot at 0x1877c78fe48>"
      ]
     },
     "execution_count": 329,
     "metadata": {},
     "output_type": "execute_result"
    },
    {
     "data": {
      "image/png": "[encoded data removed]",
      "text/plain": [
       "<Figure size 1296x360 with 1 Axes>"
      ]
     },
     "metadata": {
      "image/png": {
       "height": 332,
       "width": 1038
      },
      "needs_background": "light"
     },
     "output_type": "display_data"
    }
   ],
   "source": [
    "g_apila = data_agg.unstack()\n",
    "g_apila.index = g_apila.index.year\n",
    "g_apila.plot(kind='bar',stacked=True,legend=True)"
   ]
  },
  {
   "cell_type": "markdown",
   "metadata": {},
   "source": [
    "# Banxico Parte 2:"
   ]
  },
  {
   "cell_type": "markdown",
   "metadata": {},
   "source": [
    "* Ocupando **únicamente** pandas, numpy; matplotlib; seaborn, con la información obtenida en la parte 1 (pandas DataFrame) modelar con Naïve Bayes si un documento dado pertence a la clase `mantiene`, `sube`, `baja`\n",
    "\n",
    "## Pasos\n",
    "1. Descargar PDFs\n",
    "---"
   ]
  },
  {
   "cell_type": "code",
   "execution_count": 27,
   "metadata": {},
   "outputs": [],
   "source": [
    "import requests\n",
    "import os\n",
    "from io import BytesIO\n",
    "import PyPDF2\n",
    "from  PyPDF2 import PdfFileReader\n",
    "from unidecode import unidecode\n",
    "from collections import defaultdict\n",
    "from nltk import corpus\n",
    "import numpy as np"
   ]
  },
  {
   "cell_type": "code",
   "execution_count": 15,
   "metadata": {},
   "outputs": [],
   "source": [
    "#descargamos los archivos en la carpeta PDF\n",
    "carpeta = \"PDF\"\n",
    "for url,date in zip(data.url, data.index):\n",
    "    if not os.path.exists(\"PDF\"):\n",
    "        os.mkdir(\"PDF\")\n",
    "    archivo = date.strftime(\"%Y-%m-%d\") + '.pdf'\n",
    "    full_path= os.path.join(carpeta, archivo)\n",
    "    \n",
    "    r = requests.get(url)\n",
    "    docto =r.content\n",
    "    with open(full_path, \"wb\") as f:\n",
    "        f.write(docto)\n"
   ]
  },
  {
   "cell_type": "markdown",
   "metadata": {},
   "source": [
    "2. Limpiar los datos y 3. Eliminar de todos los archivo las palabras que contengan `mantiene`, `sube`, `baja`.\n",
    "---"
   ]
  },
  {
   "cell_type": "code",
   "execution_count": 16,
   "metadata": {},
   "outputs": [],
   "source": [
    "#lectura de los archivos pdf\n",
    "from pathlib import Path\n",
    "#funcion para obtener los archivos de la computadora\n",
    "def ls(ruta):\n",
    "    return [arch.name for arch in Path(ruta).iterdir() if arch.is_file()]"
   ]
  },
  {
   "cell_type": "code",
   "execution_count": 136,
   "metadata": {},
   "outputs": [],
   "source": [
    "lista_arq = ls('./PDF/')\n",
    "pdf_txt = defaultdict(list)\n",
    "\n",
    "for file in lista_arq:\n",
    "    path = os.path.join(carpeta, file)\n",
    "   # print(path)\n",
    "\n",
    "    #pdf_document='./PDF/2008-03-14.pdf'\n",
    "    with open(path, \"rb\") as filehandle:  \n",
    "        pdf = PdfFileReader(filehandle)\n",
    "        pages = pdf.getNumPages()\n",
    "        \n",
    "        txt=''\n",
    "        for pag in range(pages) :\n",
    "            pg = pdf.getPage(pag)\n",
    "            txt += pg.extractText()\n",
    "#            print (pag)\n",
    "\n",
    "    new_txt = str(unidecode(txt).encode('utf-8')).lower().lstrip(\"b' \")\n",
    "    new_txt = new_txt.replace('\\\\n','')\n",
    "    #eliminamos las palabras c\n",
    "    new_txt = (new_txt.replace('mantiene','')                     \n",
    "                    .replace('sube','')                    \n",
    "                    .replace('baja',''))\n",
    "    \n",
    "    res = ''.join([i for i in new_txt if not i.isdigit()]) \n",
    "    res= re.sub(\"[^\\w ]\", \"\", res)\n",
    "    pdf_txt[file.rstrip(\".pdf\")].append(res)"
   ]
  },
  {
   "cell_type": "code",
   "execution_count": 137,
   "metadata": {},
   "outputs": [
    {
     "data": {
      "text/html": [
       "<div>\n",
       "<style scoped>\n",
       "    .dataframe tbody tr th:only-of-type {\n",
       "        vertical-align: middle;\n",
       "    }\n",
       "\n",
       "    .dataframe tbody tr th {\n",
       "        vertical-align: top;\n",
       "    }\n",
       "\n",
       "    .dataframe thead th {\n",
       "        text-align: right;\n",
       "    }\n",
       "</style>\n",
       "<table border=\"1\" class=\"dataframe\">\n",
       "  <thead>\n",
       "    <tr style=\"text-align: right;\">\n",
       "      <th></th>\n",
       "      <th>pdf</th>\n",
       "    </tr>\n",
       "    <tr>\n",
       "      <th>date</th>\n",
       "      <th></th>\n",
       "    </tr>\n",
       "  </thead>\n",
       "  <tbody>\n",
       "    <tr>\n",
       "      <td>2008-02-15</td>\n",
       "      <td>de febrero de  comunicado de prensa    anunci...</td>\n",
       "    </tr>\n",
       "    <tr>\n",
       "      <td>2009-04-17</td>\n",
       "      <td>de abril de  comunicado de prensa  anuncio de...</td>\n",
       "    </tr>\n",
       "    <tr>\n",
       "      <td>2009-03-20</td>\n",
       "      <td>de marzo de  comunicado de prensa  anuncio de...</td>\n",
       "    </tr>\n",
       "    <tr>\n",
       "      <td>2008-07-18</td>\n",
       "      <td>de julio de  comunicado de prensa  anuncio de...</td>\n",
       "    </tr>\n",
       "    <tr>\n",
       "      <td>2008-03-14</td>\n",
       "      <td>de marzo de  comunicado de prensa   anuncio d...</td>\n",
       "    </tr>\n",
       "  </tbody>\n",
       "</table>\n",
       "</div>"
      ],
      "text/plain": [
       "                                                          pdf\n",
       "date                                                         \n",
       "2008-02-15   de febrero de  comunicado de prensa    anunci...\n",
       "2009-04-17   de abril de  comunicado de prensa  anuncio de...\n",
       "2009-03-20   de marzo de  comunicado de prensa  anuncio de...\n",
       "2008-07-18   de julio de  comunicado de prensa  anuncio de...\n",
       "2008-03-14   de marzo de  comunicado de prensa   anuncio d..."
      ]
     },
     "execution_count": 137,
     "metadata": {},
     "output_type": "execute_result"
    }
   ],
   "source": [
    "df_txt_cln = pd.DataFrame([[k] + v for k,v in pdf_txt.items() ], columns=['date', 'pdf'])\n",
    "df_txt_cln = df_txt_cln.set_index('date')\n",
    "df_txt_cln.index = pd.to_datetime(df_txt_cln.index)\n",
    "df_txt_cln.head()"
   ]
  },
  {
   "cell_type": "code",
   "execution_count": 165,
   "metadata": {},
   "outputs": [
    {
     "data": {
      "text/html": [
       "<div>\n",
       "<style scoped>\n",
       "    .dataframe tbody tr th:only-of-type {\n",
       "        vertical-align: middle;\n",
       "    }\n",
       "\n",
       "    .dataframe tbody tr th {\n",
       "        vertical-align: top;\n",
       "    }\n",
       "\n",
       "    .dataframe thead th {\n",
       "        text-align: right;\n",
       "    }\n",
       "</style>\n",
       "<table border=\"1\" class=\"dataframe\">\n",
       "  <thead>\n",
       "    <tr style=\"text-align: right;\">\n",
       "      <th></th>\n",
       "      <th>text</th>\n",
       "      <th>url</th>\n",
       "      <th>category</th>\n",
       "      <th>pdf</th>\n",
       "    </tr>\n",
       "    <tr>\n",
       "      <th>date</th>\n",
       "      <th></th>\n",
       "      <th></th>\n",
       "      <th></th>\n",
       "      <th></th>\n",
       "    </tr>\n",
       "  </thead>\n",
       "  <tbody>\n",
       "    <tr>\n",
       "      <td>2020-02-13</td>\n",
       "      <td>El objetivo para la Tasa de Inter�s Interbanca...</td>\n",
       "      <td>https://www.banxico.org.mx/publicaciones-y-pre...</td>\n",
       "      <td>disminuye</td>\n",
       "      <td>comunicado de prensa                de febrero...</td>\n",
       "    </tr>\n",
       "    <tr>\n",
       "      <td>2019-12-19</td>\n",
       "      <td>El objetivo para la Tasa de Inter�s Interbanca...</td>\n",
       "      <td>https://www.banxico.org.mx/publicaciones-y-pre...</td>\n",
       "      <td>disminuye</td>\n",
       "      <td>de diciembre de  comunicado de prensa  anun...</td>\n",
       "    </tr>\n",
       "    <tr>\n",
       "      <td>2019-11-14</td>\n",
       "      <td>El objetivo para la Tasa de Inter�s Interbanca...</td>\n",
       "      <td>https://www.banxico.org.mx/publicaciones-y-pre...</td>\n",
       "      <td>disminuye</td>\n",
       "      <td>de noviembre de  comunicado de prensa anunc...</td>\n",
       "    </tr>\n",
       "    <tr>\n",
       "      <td>2019-09-26</td>\n",
       "      <td>El objetivo para la Tasa de Inter�s Interbanca...</td>\n",
       "      <td>https://www.banxico.org.mx/publicaciones-y-pre...</td>\n",
       "      <td>disminuye</td>\n",
       "      <td>de septiembre de  comunicado de prensa  anu...</td>\n",
       "    </tr>\n",
       "    <tr>\n",
       "      <td>2019-08-15</td>\n",
       "      <td>El objetivo para la Tasa de Inter�s Interbanca...</td>\n",
       "      <td>https://www.banxico.org.mx/publicaciones-y-pre...</td>\n",
       "      <td>disminuye</td>\n",
       "      <td>de agosto de  comunicado de prensa  anuncio...</td>\n",
       "    </tr>\n",
       "  </tbody>\n",
       "</table>\n",
       "</div>"
      ],
      "text/plain": [
       "                                                         text  \\\n",
       "date                                                            \n",
       "2020-02-13  El objetivo para la Tasa de Inter�s Interbanca...   \n",
       "2019-12-19  El objetivo para la Tasa de Inter�s Interbanca...   \n",
       "2019-11-14  El objetivo para la Tasa de Inter�s Interbanca...   \n",
       "2019-09-26  El objetivo para la Tasa de Inter�s Interbanca...   \n",
       "2019-08-15  El objetivo para la Tasa de Inter�s Interbanca...   \n",
       "\n",
       "                                                          url   category  \\\n",
       "date                                                                       \n",
       "2020-02-13  https://www.banxico.org.mx/publicaciones-y-pre...  disminuye   \n",
       "2019-12-19  https://www.banxico.org.mx/publicaciones-y-pre...  disminuye   \n",
       "2019-11-14  https://www.banxico.org.mx/publicaciones-y-pre...  disminuye   \n",
       "2019-09-26  https://www.banxico.org.mx/publicaciones-y-pre...  disminuye   \n",
       "2019-08-15  https://www.banxico.org.mx/publicaciones-y-pre...  disminuye   \n",
       "\n",
       "                                                          pdf  \n",
       "date                                                           \n",
       "2020-02-13  comunicado de prensa                de febrero...  \n",
       "2019-12-19     de diciembre de  comunicado de prensa  anun...  \n",
       "2019-11-14     de noviembre de  comunicado de prensa anunc...  \n",
       "2019-09-26     de septiembre de  comunicado de prensa  anu...  \n",
       "2019-08-15     de agosto de  comunicado de prensa  anuncio...  "
      ]
     },
     "execution_count": 165,
     "metadata": {},
     "output_type": "execute_result"
    }
   ],
   "source": [
    "#unimos el texto de cada pdf a su respectivo registro de la tabla original (data)\n",
    "data_pdf = data.join(df_txt_cln,on='date')\n",
    "data_pdf.head()"
   ]
  },
  {
   "cell_type": "markdown",
   "metadata": {},
   "source": [
    "4. Parte los documentos entre un set de entrenamiento (0.8) y uno de prueba (0.2)\n",
    "---"
   ]
  },
  {
   "cell_type": "code",
   "execution_count": 166,
   "metadata": {},
   "outputs": [],
   "source": [
    "# separamos los dataframes por categoria para posteriormente separarlos en 80% train - 20 test\n",
    "D_D = data_pdf[data_pdf.category == 'disminuye']\n",
    "D_M = data_pdf[data_pdf.category == 'mantiene']\n",
    "D_I = data_pdf[data_pdf.category == 'incrementa']"
   ]
  },
  {
   "cell_type": "code",
   "execution_count": 140,
   "metadata": {},
   "outputs": [],
   "source": [
    "#*************************************************************************************\n",
    "#codigo para generar la separacion usando sklearn\n",
    "#*************************************************************************************\n",
    "\n",
    "from sklearn.model_selection import train_test_split\n",
    "D_D_train, D_D_test = train_test_split(D_D, test_size=0.2)\n",
    "D_M_train, D_M_test = train_test_split(D_M, test_size=0.2)\n",
    "D_I_train, D_I_test = train_test_split(D_I, test_size=0.2)"
   ]
  },
  {
   "cell_type": "code",
   "execution_count": 192,
   "metadata": {},
   "outputs": [],
   "source": [
    "# dividimos los datos solo con pandas\n",
    "\n",
    "#disminuye\n",
    "D_D_train = D_D.sample(frac=0.8, random_state=0)\n",
    "D_D_test = D_D.drop(D_D_train.index)\n",
    "#se mantiene\n",
    "D_M_train = D_M.sample(frac=0.8, random_state=0)\n",
    "D_M_test = D_M.drop(D_M_train.index)\n",
    "#incrementa\n",
    "D_I_train = D_I.sample(frac=0.8, random_state=0)\n",
    "D_I_test = D_I.drop(D_I_train.index)"
   ]
  },
  {
   "cell_type": "code",
   "execution_count": 193,
   "metadata": {},
   "outputs": [
    {
     "name": "stdout",
     "output_type": "stream",
     "text": [
      "72\n",
      "58\n",
      "14\n"
     ]
    }
   ],
   "source": [
    "print(len(D_M))\n",
    "print(len(D_M_train))\n",
    "print(len(D_M_test))"
   ]
  },
  {
   "cell_type": "code",
   "execution_count": 194,
   "metadata": {},
   "outputs": [
    {
     "name": "stdout",
     "output_type": "stream",
     "text": [
      "85\n"
     ]
    }
   ],
   "source": [
    "#Obtenemos el valor de N\n",
    "N1 = len(D_D_train)\n",
    "N2 = len(D_M_train)\n",
    "N3 = len(D_I_train)\n",
    "N = N1 + N2 + N3\n",
    "print(N)"
   ]
  },
  {
   "cell_type": "markdown",
   "metadata": {},
   "source": [
    "5. Entrena el modelo con los documentos de entrenamiento y valida el resultado con una matriz de confusión usado la base de prueba\n",
    "---"
   ]
  },
  {
   "cell_type": "code",
   "execution_count": 244,
   "metadata": {},
   "outputs": [],
   "source": [
    "stopwords = corpus.stopwords.words(\"spanish\")\n",
    "#eliminamos palabras que se repiten mucho\n",
    "del_words = ['inflacion','precios','monetaria','ciento','economia','mexico','riesgos','politica','objetivo','actividad','crecimiento']\n",
    "#del_words =['inflacion']\n",
    "stopwords.extend(del_words)\n",
    "stopwords = [unidecode(word) for word in stopwords]"
   ]
  },
  {
   "cell_type": "code",
   "execution_count": 245,
   "metadata": {},
   "outputs": [],
   "source": [
    "#genera los vectores de palabras para cada categoria\n",
    "V1 = [palabra for dialogo in D_D_train.pdf for palabra in dialogo.split()\n",
    "      if palabra not in stopwords]\n",
    "\n",
    "V2 = [palabra for dialogo in D_M_train.pdf for palabra in dialogo.split()\n",
    "      if palabra not in stopwords]\n",
    "\n",
    "V3 = [palabra for dialogo in D_I_train.pdf for palabra in dialogo.split()\n",
    "      if palabra not in stopwords]"
   ]
  },
  {
   "cell_type": "code",
   "execution_count": 246,
   "metadata": {},
   "outputs": [
    {
     "data": {
      "text/plain": [
       "economica        50\n",
       "junta            47\n",
       "interes          43\n",
       "tasa             43\n",
       "mayor            40\n",
       "nivel            40\n",
       "subyacente       38\n",
       "base             38\n",
       "gobierno         37\n",
       "asi              36\n",
       "condiciones      33\n",
       "banco            32\n",
       "financieros      31\n",
       "unidos           31\n",
       "mundial          30\n",
       "incertidumbre    30\n",
       "contexto         29\n",
       "puntos           29\n",
       "economias        29\n",
       "balance          28\n",
       "dtype: int64"
      ]
     },
     "execution_count": 246,
     "metadata": {},
     "output_type": "execute_result"
    }
   ],
   "source": [
    "pd.Series(V1).value_counts().head(20)"
   ]
  },
  {
   "cell_type": "code",
   "execution_count": 247,
   "metadata": {},
   "outputs": [
    {
     "data": {
      "text/plain": [
       "subyacente      193\n",
       "junta           188\n",
       "interes         184\n",
       "tasa            181\n",
       "economica       177\n",
       "parte           172\n",
       "expectativas    170\n",
       "unidos          153\n",
       "asi             152\n",
       "gobierno        146\n",
       "economias       145\n",
       "general         142\n",
       "cambio          141\n",
       "mantener        140\n",
       "niveles         134\n",
       "mercados        133\n",
       "plazo           130\n",
       "ano             128\n",
       "evolucion       124\n",
       "postura         123\n",
       "dtype: int64"
      ]
     },
     "execution_count": 247,
     "metadata": {},
     "output_type": "execute_result"
    }
   ],
   "source": [
    "pd.Series(V2).value_counts().head(20)"
   ]
  },
  {
   "cell_type": "code",
   "execution_count": 248,
   "metadata": {},
   "outputs": [
    {
     "data": {
      "text/plain": [
       "expectativas    71\n",
       "unidos          65\n",
       "interes         59\n",
       "ano             57\n",
       "plazo           54\n",
       "tasa            53\n",
       "junta           49\n",
       "gobierno        48\n",
       "subyacente      47\n",
       "mediano         47\n",
       "largo           44\n",
       "bien            43\n",
       "nacional        43\n",
       "economica       41\n",
       "entorno         41\n",
       "cambio          41\n",
       "asi             40\n",
       "evolucion       40\n",
       "alza            39\n",
       "particular      39\n",
       "dtype: int64"
      ]
     },
     "execution_count": 248,
     "metadata": {},
     "output_type": "execute_result"
    }
   ],
   "source": [
    "pd.Series(V3).value_counts().head(20)"
   ]
  },
  {
   "cell_type": "code",
   "execution_count": 249,
   "metadata": {},
   "outputs": [],
   "source": [
    "V = set(V1) | set(V2) | set(V3)\n",
    "vocab = pd.DataFrame(index=V)"
   ]
  },
  {
   "cell_type": "code",
   "execution_count": 250,
   "metadata": {},
   "outputs": [],
   "source": [
    "V1_c = pd.Series(V1, name=\"disminuye\").value_counts()\n",
    "V2_c = pd.Series(V2, name=\"mantiene\").value_counts()\n",
    "V3_c = pd.Series(V3, name=\"incrementa\").value_counts()"
   ]
  },
  {
   "cell_type": "code",
   "execution_count": 251,
   "metadata": {},
   "outputs": [
    {
     "data": {
      "text/html": [
       "<div>\n",
       "<style scoped>\n",
       "    .dataframe tbody tr th:only-of-type {\n",
       "        vertical-align: middle;\n",
       "    }\n",
       "\n",
       "    .dataframe tbody tr th {\n",
       "        vertical-align: top;\n",
       "    }\n",
       "\n",
       "    .dataframe thead th {\n",
       "        text-align: right;\n",
       "    }\n",
       "</style>\n",
       "<table border=\"1\" class=\"dataframe\">\n",
       "  <thead>\n",
       "    <tr style=\"text-align: right;\">\n",
       "      <th></th>\n",
       "      <th>disminuye</th>\n",
       "      <th>mantiene</th>\n",
       "      <th>incrementa</th>\n",
       "    </tr>\n",
       "  </thead>\n",
       "  <tbody>\n",
       "    <tr>\n",
       "      <td>cinco</td>\n",
       "      <td>0.000247</td>\n",
       "      <td>0.000036</td>\n",
       "      <td>0.000183</td>\n",
       "    </tr>\n",
       "    <tr>\n",
       "      <td>estrecho</td>\n",
       "      <td>0.000123</td>\n",
       "      <td>0.000108</td>\n",
       "      <td>0.000092</td>\n",
       "    </tr>\n",
       "    <tr>\n",
       "      <td>contaminado</td>\n",
       "      <td>0.000123</td>\n",
       "      <td>0.000108</td>\n",
       "      <td>0.000092</td>\n",
       "    </tr>\n",
       "    <tr>\n",
       "      <td>consumidor</td>\n",
       "      <td>0.000123</td>\n",
       "      <td>0.000576</td>\n",
       "      <td>0.000458</td>\n",
       "    </tr>\n",
       "    <tr>\n",
       "      <td>consolidarla</td>\n",
       "      <td>0.000123</td>\n",
       "      <td>0.000144</td>\n",
       "      <td>0.000092</td>\n",
       "    </tr>\n",
       "    <tr>\n",
       "      <td>potenciado</td>\n",
       "      <td>0.000123</td>\n",
       "      <td>0.000072</td>\n",
       "      <td>0.000092</td>\n",
       "    </tr>\n",
       "    <tr>\n",
       "      <td>relajamientos</td>\n",
       "      <td>0.000247</td>\n",
       "      <td>0.000072</td>\n",
       "      <td>0.000092</td>\n",
       "    </tr>\n",
       "    <tr>\n",
       "      <td>retrasado</td>\n",
       "      <td>0.000123</td>\n",
       "      <td>0.000072</td>\n",
       "      <td>0.000092</td>\n",
       "    </tr>\n",
       "    <tr>\n",
       "      <td>concretar</td>\n",
       "      <td>0.000123</td>\n",
       "      <td>0.000108</td>\n",
       "      <td>0.000092</td>\n",
       "    </tr>\n",
       "    <tr>\n",
       "      <td>proximos</td>\n",
       "      <td>0.000741</td>\n",
       "      <td>0.000432</td>\n",
       "      <td>0.000458</td>\n",
       "    </tr>\n",
       "  </tbody>\n",
       "</table>\n",
       "</div>"
      ],
      "text/plain": [
       "               disminuye  mantiene  incrementa\n",
       "cinco           0.000247  0.000036    0.000183\n",
       "estrecho        0.000123  0.000108    0.000092\n",
       "contaminado     0.000123  0.000108    0.000092\n",
       "consumidor      0.000123  0.000576    0.000458\n",
       "consolidarla    0.000123  0.000144    0.000092\n",
       "potenciado      0.000123  0.000072    0.000092\n",
       "relajamientos   0.000247  0.000072    0.000092\n",
       "retrasado       0.000123  0.000072    0.000092\n",
       "concretar       0.000123  0.000108    0.000092\n",
       "proximos        0.000741  0.000432    0.000458"
      ]
     },
     "execution_count": 251,
     "metadata": {},
     "output_type": "execute_result"
    }
   ],
   "source": [
    "# likelihood\n",
    "L = (vocab.join(V1_c, how=\"left\")\n",
    "          .join(V2_c, how=\"left\")\n",
    "          .join(V3_c, how=\"left\"))\n",
    "L = L.fillna(0) + 1\n",
    "L = L / L.sum(axis=0)\n",
    "L.sample(10, random_state=0)"
   ]
  },
  {
   "cell_type": "code",
   "execution_count": 252,
   "metadata": {},
   "outputs": [
    {
     "data": {
      "text/plain": [
       "disminuye    -41.308600\n",
       "mantiene     -39.719713\n",
       "incrementa   -41.926492\n",
       "dtype: float64"
      ]
     },
     "execution_count": 252,
     "metadata": {},
     "output_type": "execute_result"
    }
   ],
   "source": [
    "log_L = np.log(L)\n",
    "log_L.loc[[\"visto\", \"elevarse\", \"referencia\", \"fortaleza\",\"eventualidad\"]].sum(axis=0)"
   ]
  },
  {
   "cell_type": "code",
   "execution_count": 253,
   "metadata": {},
   "outputs": [
    {
     "data": {
      "text/plain": [
       "array([-1.8777019 , -0.38220825, -1.80359393])"
      ]
     },
     "execution_count": 253,
     "metadata": {},
     "output_type": "execute_result"
    }
   ],
   "source": [
    "log_prior_D = np.log(N1 / N)\n",
    "log_prior_M = np.log(N2 / N)\n",
    "log_prior_I = np.log(N3 / N)\n",
    "log_priors = np.array([log_prior_D, log_prior_M, log_prior_I])\n",
    "log_priors"
   ]
  },
  {
   "cell_type": "code",
   "execution_count": 254,
   "metadata": {},
   "outputs": [
    {
     "data": {
      "text/plain": [
       "0      disminuye\n",
       "1      disminuye\n",
       "2      disminuye\n",
       "3       mantiene\n",
       "4       mantiene\n",
       "5       mantiene\n",
       "6       mantiene\n",
       "7       mantiene\n",
       "8       mantiene\n",
       "9       mantiene\n",
       "10      mantiene\n",
       "11      mantiene\n",
       "12      mantiene\n",
       "13      mantiene\n",
       "14      mantiene\n",
       "15      mantiene\n",
       "16      mantiene\n",
       "17    incrementa\n",
       "18    incrementa\n",
       "19    incrementa\n",
       "20    incrementa\n",
       "Name: Actual, dtype: object"
      ]
     },
     "execution_count": 254,
     "metadata": {},
     "output_type": "execute_result"
    }
   ],
   "source": [
    "#probamos el modelo\n",
    "#generamos los registros actuales\n",
    "DF_test = D_D_test.pdf.to_list() + D_M_test.pdf.to_list() + D_I_test.pdf.to_list()\n",
    "\n",
    "y_test = [\"disminuye\"] * len(D_D_test) + [\"mantiene\"] * len(D_M_test) + [\"incrementa\"] * len(D_I_test)\n",
    "pd.Series(y_test,name='Actual')"
   ]
  },
  {
   "cell_type": "code",
   "execution_count": 255,
   "metadata": {},
   "outputs": [],
   "source": [
    "yhat_test = []\n",
    "\n",
    "for d_test in DF_test:\n",
    "    f = set([palabra for palabra in d_test.split() if palabra in V])\n",
    "    res = log_L.loc[f].sum(axis=0) + log_priors\n",
    "    yhat_test.append(res.idxmax())"
   ]
  },
  {
   "cell_type": "code",
   "execution_count": 256,
   "metadata": {},
   "outputs": [
    {
     "data": {
      "text/plain": [
       "0      disminuye\n",
       "1       mantiene\n",
       "2      disminuye\n",
       "3     incrementa\n",
       "4     incrementa\n",
       "5       mantiene\n",
       "6       mantiene\n",
       "7       mantiene\n",
       "8       mantiene\n",
       "9       mantiene\n",
       "10      mantiene\n",
       "11      mantiene\n",
       "12      mantiene\n",
       "13      mantiene\n",
       "14     disminuye\n",
       "15      mantiene\n",
       "16      mantiene\n",
       "17    incrementa\n",
       "18    incrementa\n",
       "19    incrementa\n",
       "20      mantiene\n",
       "Name: Predicted, dtype: object"
      ]
     },
     "execution_count": 256,
     "metadata": {},
     "output_type": "execute_result"
    }
   ],
   "source": [
    "pd.Series(yhat_test,name='Predicted')"
   ]
  },
  {
   "cell_type": "code",
   "execution_count": 257,
   "metadata": {},
   "outputs": [
    {
     "data": {
      "text/html": [
       "<div>\n",
       "<style scoped>\n",
       "    .dataframe tbody tr th:only-of-type {\n",
       "        vertical-align: middle;\n",
       "    }\n",
       "\n",
       "    .dataframe tbody tr th {\n",
       "        vertical-align: top;\n",
       "    }\n",
       "\n",
       "    .dataframe thead th {\n",
       "        text-align: right;\n",
       "    }\n",
       "</style>\n",
       "<table border=\"1\" class=\"dataframe\">\n",
       "  <thead>\n",
       "    <tr style=\"text-align: right;\">\n",
       "      <th>Predicted</th>\n",
       "      <th>disminuye</th>\n",
       "      <th>incrementa</th>\n",
       "      <th>mantiene</th>\n",
       "      <th>All</th>\n",
       "    </tr>\n",
       "    <tr>\n",
       "      <th>Actual</th>\n",
       "      <th></th>\n",
       "      <th></th>\n",
       "      <th></th>\n",
       "      <th></th>\n",
       "    </tr>\n",
       "  </thead>\n",
       "  <tbody>\n",
       "    <tr>\n",
       "      <td>disminuye</td>\n",
       "      <td>2</td>\n",
       "      <td>0</td>\n",
       "      <td>1</td>\n",
       "      <td>3</td>\n",
       "    </tr>\n",
       "    <tr>\n",
       "      <td>incrementa</td>\n",
       "      <td>0</td>\n",
       "      <td>3</td>\n",
       "      <td>1</td>\n",
       "      <td>4</td>\n",
       "    </tr>\n",
       "    <tr>\n",
       "      <td>mantiene</td>\n",
       "      <td>1</td>\n",
       "      <td>2</td>\n",
       "      <td>11</td>\n",
       "      <td>14</td>\n",
       "    </tr>\n",
       "    <tr>\n",
       "      <td>All</td>\n",
       "      <td>3</td>\n",
       "      <td>5</td>\n",
       "      <td>13</td>\n",
       "      <td>21</td>\n",
       "    </tr>\n",
       "  </tbody>\n",
       "</table>\n",
       "</div>"
      ],
      "text/plain": [
       "Predicted   disminuye  incrementa  mantiene  All\n",
       "Actual                                          \n",
       "disminuye           2           0         1    3\n",
       "incrementa          0           3         1    4\n",
       "mantiene            1           2        11   14\n",
       "All                 3           5        13   21"
      ]
     },
     "execution_count": 257,
     "metadata": {},
     "output_type": "execute_result"
    }
   ],
   "source": [
    "df_confusion = pd.crosstab(pd.Series(y_test,name='Actual'), \n",
    "                           pd.Series(yhat_test,name='Predicted'),\n",
    "                           rownames=['Actual'], colnames=['Predicted'], margins=True)\n",
    "#, margins=True\n",
    "df_confusion"
   ]
  },
  {
   "cell_type": "code",
   "execution_count": 258,
   "metadata": {},
   "outputs": [
    {
     "data": {
      "text/html": [
       "<div>\n",
       "<style scoped>\n",
       "    .dataframe tbody tr th:only-of-type {\n",
       "        vertical-align: middle;\n",
       "    }\n",
       "\n",
       "    .dataframe tbody tr th {\n",
       "        vertical-align: top;\n",
       "    }\n",
       "\n",
       "    .dataframe thead th {\n",
       "        text-align: right;\n",
       "    }\n",
       "</style>\n",
       "<table border=\"1\" class=\"dataframe\">\n",
       "  <thead>\n",
       "    <tr style=\"text-align: right;\">\n",
       "      <th>Predicted</th>\n",
       "      <th>disminuye</th>\n",
       "      <th>incrementa</th>\n",
       "      <th>mantiene</th>\n",
       "      <th>All</th>\n",
       "    </tr>\n",
       "    <tr>\n",
       "      <th>Actual</th>\n",
       "      <th></th>\n",
       "      <th></th>\n",
       "      <th></th>\n",
       "      <th></th>\n",
       "    </tr>\n",
       "  </thead>\n",
       "  <tbody>\n",
       "    <tr>\n",
       "      <td>disminuye</td>\n",
       "      <td>0.333333</td>\n",
       "      <td>0.000</td>\n",
       "      <td>0.035714</td>\n",
       "      <td>0.071429</td>\n",
       "    </tr>\n",
       "    <tr>\n",
       "      <td>incrementa</td>\n",
       "      <td>0.000000</td>\n",
       "      <td>0.375</td>\n",
       "      <td>0.035714</td>\n",
       "      <td>0.095238</td>\n",
       "    </tr>\n",
       "    <tr>\n",
       "      <td>mantiene</td>\n",
       "      <td>0.166667</td>\n",
       "      <td>0.250</td>\n",
       "      <td>0.392857</td>\n",
       "      <td>0.333333</td>\n",
       "    </tr>\n",
       "    <tr>\n",
       "      <td>All</td>\n",
       "      <td>0.500000</td>\n",
       "      <td>0.625</td>\n",
       "      <td>0.464286</td>\n",
       "      <td>0.500000</td>\n",
       "    </tr>\n",
       "  </tbody>\n",
       "</table>\n",
       "</div>"
      ],
      "text/plain": [
       "Predicted   disminuye  incrementa  mantiene       All\n",
       "Actual                                               \n",
       "disminuye    0.333333       0.000  0.035714  0.071429\n",
       "incrementa   0.000000       0.375  0.035714  0.095238\n",
       "mantiene     0.166667       0.250  0.392857  0.333333\n",
       "All          0.500000       0.625  0.464286  0.500000"
      ]
     },
     "execution_count": 258,
     "metadata": {},
     "output_type": "execute_result"
    }
   ],
   "source": [
    "df_conf_norm = df_confusion / df_confusion.sum(axis=1)\n",
    "df_conf_norm"
   ]
  },
  {
   "cell_type": "code",
   "execution_count": null,
   "metadata": {},
   "outputs": [],
   "source": []
  }
 ],
 "metadata": {
  "kernelspec": {
   "display_name": "Python 3",
   "language": "python",
   "name": "python3"
  },
  "language_info": {
   "codemirror_mode": {
    "name": "ipython",
    "version": 3
   },
   "file_extension": ".py",
   "mimetype": "text/x-python",
   "name": "python",
   "nbconvert_exporter": "python",
   "pygments_lexer": "ipython3",
   "version": "3.7.4"
  }
 },
 "nbformat": 4,
 "nbformat_minor": 4
}
